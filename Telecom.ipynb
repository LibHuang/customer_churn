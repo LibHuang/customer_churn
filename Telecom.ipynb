{
 "cells": [
  {
   "cell_type": "code",
   "execution_count": null,
   "metadata": {},
   "outputs": [],
   "source": [
    "#https://developer.ibm.com/technologies/data-science/patterns/predict-customer-churn-using-watson-studio-and-jupyter-notebooks/#"
   ]
  },
  {
   "cell_type": "code",
   "execution_count": 1,
   "metadata": {},
   "outputs": [],
   "source": [
    "from sklearn.linear_model import LogisticRegression\n",
    "from sklearn.neighbors import KNeighborsClassifier\n",
    "from sklearn.tree import DecisionTreeClassifier\n",
    "from sklearn.svm import SVC\n",
    "from sklearn.ensemble import AdaBoostClassifier\n",
    "from sklearn.ensemble import BaggingClassifier, RandomForestClassifier\n",
    "from xgboost import XGBClassifier\n",
    "from lightgbm import LGBMClassifier\n",
    "from catboost import CatBoostClassifier"
   ]
  },
  {
   "cell_type": "code",
   "execution_count": 2,
   "metadata": {},
   "outputs": [
    {
     "data": {
      "application/javascript": [
       "\n",
       "        if (window._pyforest_update_imports_cell) { window._pyforest_update_imports_cell('import pandas as pd'); }\n",
       "    "
      ],
      "text/plain": [
       "<IPython.core.display.Javascript object>"
      ]
     },
     "metadata": {},
     "output_type": "display_data"
    },
    {
     "data": {
      "text/html": [
       "<div>\n",
       "<style scoped>\n",
       "    .dataframe tbody tr th:only-of-type {\n",
       "        vertical-align: middle;\n",
       "    }\n",
       "\n",
       "    .dataframe tbody tr th {\n",
       "        vertical-align: top;\n",
       "    }\n",
       "\n",
       "    .dataframe thead th {\n",
       "        text-align: right;\n",
       "    }\n",
       "</style>\n",
       "<table border=\"1\" class=\"dataframe\">\n",
       "  <thead>\n",
       "    <tr style=\"text-align: right;\">\n",
       "      <th></th>\n",
       "      <th>SeniorCitizen</th>\n",
       "      <th>Partner</th>\n",
       "      <th>Dependents</th>\n",
       "      <th>tenure</th>\n",
       "      <th>PhoneService</th>\n",
       "      <th>PaperlessBilling</th>\n",
       "      <th>MonthlyCharges</th>\n",
       "      <th>TotalCharges</th>\n",
       "      <th>Churn</th>\n",
       "      <th>gender_Male</th>\n",
       "      <th>...</th>\n",
       "      <th>TechSupport_Yes</th>\n",
       "      <th>StreamingTV_No internet service</th>\n",
       "      <th>StreamingTV_Yes</th>\n",
       "      <th>StreamingMovies_No internet service</th>\n",
       "      <th>StreamingMovies_Yes</th>\n",
       "      <th>Contract_One year</th>\n",
       "      <th>Contract_Two year</th>\n",
       "      <th>PaymentMethod_Credit card (automatic)</th>\n",
       "      <th>PaymentMethod_Electronic check</th>\n",
       "      <th>PaymentMethod_Mailed check</th>\n",
       "    </tr>\n",
       "  </thead>\n",
       "  <tbody>\n",
       "    <tr>\n",
       "      <th>0</th>\n",
       "      <td>0</td>\n",
       "      <td>1</td>\n",
       "      <td>0</td>\n",
       "      <td>1</td>\n",
       "      <td>0</td>\n",
       "      <td>1</td>\n",
       "      <td>29.85</td>\n",
       "      <td>29.85</td>\n",
       "      <td>0</td>\n",
       "      <td>0</td>\n",
       "      <td>...</td>\n",
       "      <td>0</td>\n",
       "      <td>0</td>\n",
       "      <td>0</td>\n",
       "      <td>0</td>\n",
       "      <td>0</td>\n",
       "      <td>0</td>\n",
       "      <td>0</td>\n",
       "      <td>0</td>\n",
       "      <td>1</td>\n",
       "      <td>0</td>\n",
       "    </tr>\n",
       "    <tr>\n",
       "      <th>1</th>\n",
       "      <td>0</td>\n",
       "      <td>0</td>\n",
       "      <td>0</td>\n",
       "      <td>34</td>\n",
       "      <td>1</td>\n",
       "      <td>0</td>\n",
       "      <td>56.95</td>\n",
       "      <td>1889.50</td>\n",
       "      <td>0</td>\n",
       "      <td>1</td>\n",
       "      <td>...</td>\n",
       "      <td>0</td>\n",
       "      <td>0</td>\n",
       "      <td>0</td>\n",
       "      <td>0</td>\n",
       "      <td>0</td>\n",
       "      <td>1</td>\n",
       "      <td>0</td>\n",
       "      <td>0</td>\n",
       "      <td>0</td>\n",
       "      <td>1</td>\n",
       "    </tr>\n",
       "    <tr>\n",
       "      <th>2</th>\n",
       "      <td>0</td>\n",
       "      <td>0</td>\n",
       "      <td>0</td>\n",
       "      <td>2</td>\n",
       "      <td>1</td>\n",
       "      <td>1</td>\n",
       "      <td>53.85</td>\n",
       "      <td>108.15</td>\n",
       "      <td>1</td>\n",
       "      <td>1</td>\n",
       "      <td>...</td>\n",
       "      <td>0</td>\n",
       "      <td>0</td>\n",
       "      <td>0</td>\n",
       "      <td>0</td>\n",
       "      <td>0</td>\n",
       "      <td>0</td>\n",
       "      <td>0</td>\n",
       "      <td>0</td>\n",
       "      <td>0</td>\n",
       "      <td>1</td>\n",
       "    </tr>\n",
       "    <tr>\n",
       "      <th>3</th>\n",
       "      <td>0</td>\n",
       "      <td>0</td>\n",
       "      <td>0</td>\n",
       "      <td>45</td>\n",
       "      <td>0</td>\n",
       "      <td>0</td>\n",
       "      <td>42.30</td>\n",
       "      <td>1840.75</td>\n",
       "      <td>0</td>\n",
       "      <td>1</td>\n",
       "      <td>...</td>\n",
       "      <td>1</td>\n",
       "      <td>0</td>\n",
       "      <td>0</td>\n",
       "      <td>0</td>\n",
       "      <td>0</td>\n",
       "      <td>1</td>\n",
       "      <td>0</td>\n",
       "      <td>0</td>\n",
       "      <td>0</td>\n",
       "      <td>0</td>\n",
       "    </tr>\n",
       "    <tr>\n",
       "      <th>4</th>\n",
       "      <td>0</td>\n",
       "      <td>0</td>\n",
       "      <td>0</td>\n",
       "      <td>2</td>\n",
       "      <td>1</td>\n",
       "      <td>1</td>\n",
       "      <td>70.70</td>\n",
       "      <td>151.65</td>\n",
       "      <td>1</td>\n",
       "      <td>0</td>\n",
       "      <td>...</td>\n",
       "      <td>0</td>\n",
       "      <td>0</td>\n",
       "      <td>0</td>\n",
       "      <td>0</td>\n",
       "      <td>0</td>\n",
       "      <td>0</td>\n",
       "      <td>0</td>\n",
       "      <td>0</td>\n",
       "      <td>1</td>\n",
       "      <td>0</td>\n",
       "    </tr>\n",
       "    <tr>\n",
       "      <th>...</th>\n",
       "      <td>...</td>\n",
       "      <td>...</td>\n",
       "      <td>...</td>\n",
       "      <td>...</td>\n",
       "      <td>...</td>\n",
       "      <td>...</td>\n",
       "      <td>...</td>\n",
       "      <td>...</td>\n",
       "      <td>...</td>\n",
       "      <td>...</td>\n",
       "      <td>...</td>\n",
       "      <td>...</td>\n",
       "      <td>...</td>\n",
       "      <td>...</td>\n",
       "      <td>...</td>\n",
       "      <td>...</td>\n",
       "      <td>...</td>\n",
       "      <td>...</td>\n",
       "      <td>...</td>\n",
       "      <td>...</td>\n",
       "      <td>...</td>\n",
       "    </tr>\n",
       "    <tr>\n",
       "      <th>7027</th>\n",
       "      <td>0</td>\n",
       "      <td>1</td>\n",
       "      <td>1</td>\n",
       "      <td>24</td>\n",
       "      <td>1</td>\n",
       "      <td>1</td>\n",
       "      <td>84.80</td>\n",
       "      <td>1990.50</td>\n",
       "      <td>0</td>\n",
       "      <td>1</td>\n",
       "      <td>...</td>\n",
       "      <td>1</td>\n",
       "      <td>0</td>\n",
       "      <td>1</td>\n",
       "      <td>0</td>\n",
       "      <td>1</td>\n",
       "      <td>1</td>\n",
       "      <td>0</td>\n",
       "      <td>0</td>\n",
       "      <td>0</td>\n",
       "      <td>1</td>\n",
       "    </tr>\n",
       "    <tr>\n",
       "      <th>7028</th>\n",
       "      <td>0</td>\n",
       "      <td>1</td>\n",
       "      <td>1</td>\n",
       "      <td>72</td>\n",
       "      <td>1</td>\n",
       "      <td>1</td>\n",
       "      <td>103.20</td>\n",
       "      <td>7362.90</td>\n",
       "      <td>0</td>\n",
       "      <td>0</td>\n",
       "      <td>...</td>\n",
       "      <td>0</td>\n",
       "      <td>0</td>\n",
       "      <td>1</td>\n",
       "      <td>0</td>\n",
       "      <td>1</td>\n",
       "      <td>1</td>\n",
       "      <td>0</td>\n",
       "      <td>1</td>\n",
       "      <td>0</td>\n",
       "      <td>0</td>\n",
       "    </tr>\n",
       "    <tr>\n",
       "      <th>7029</th>\n",
       "      <td>0</td>\n",
       "      <td>1</td>\n",
       "      <td>1</td>\n",
       "      <td>11</td>\n",
       "      <td>0</td>\n",
       "      <td>1</td>\n",
       "      <td>29.60</td>\n",
       "      <td>346.45</td>\n",
       "      <td>0</td>\n",
       "      <td>0</td>\n",
       "      <td>...</td>\n",
       "      <td>0</td>\n",
       "      <td>0</td>\n",
       "      <td>0</td>\n",
       "      <td>0</td>\n",
       "      <td>0</td>\n",
       "      <td>0</td>\n",
       "      <td>0</td>\n",
       "      <td>0</td>\n",
       "      <td>1</td>\n",
       "      <td>0</td>\n",
       "    </tr>\n",
       "    <tr>\n",
       "      <th>7030</th>\n",
       "      <td>1</td>\n",
       "      <td>1</td>\n",
       "      <td>0</td>\n",
       "      <td>4</td>\n",
       "      <td>1</td>\n",
       "      <td>1</td>\n",
       "      <td>74.40</td>\n",
       "      <td>306.60</td>\n",
       "      <td>1</td>\n",
       "      <td>1</td>\n",
       "      <td>...</td>\n",
       "      <td>0</td>\n",
       "      <td>0</td>\n",
       "      <td>0</td>\n",
       "      <td>0</td>\n",
       "      <td>0</td>\n",
       "      <td>0</td>\n",
       "      <td>0</td>\n",
       "      <td>0</td>\n",
       "      <td>0</td>\n",
       "      <td>1</td>\n",
       "    </tr>\n",
       "    <tr>\n",
       "      <th>7031</th>\n",
       "      <td>0</td>\n",
       "      <td>0</td>\n",
       "      <td>0</td>\n",
       "      <td>66</td>\n",
       "      <td>1</td>\n",
       "      <td>1</td>\n",
       "      <td>105.65</td>\n",
       "      <td>6844.50</td>\n",
       "      <td>0</td>\n",
       "      <td>1</td>\n",
       "      <td>...</td>\n",
       "      <td>1</td>\n",
       "      <td>0</td>\n",
       "      <td>1</td>\n",
       "      <td>0</td>\n",
       "      <td>1</td>\n",
       "      <td>0</td>\n",
       "      <td>1</td>\n",
       "      <td>0</td>\n",
       "      <td>0</td>\n",
       "      <td>0</td>\n",
       "    </tr>\n",
       "  </tbody>\n",
       "</table>\n",
       "<p>7032 rows × 31 columns</p>\n",
       "</div>"
      ],
      "text/plain": [
       "      SeniorCitizen  Partner  Dependents  tenure  PhoneService  \\\n",
       "0                 0        1           0       1             0   \n",
       "1                 0        0           0      34             1   \n",
       "2                 0        0           0       2             1   \n",
       "3                 0        0           0      45             0   \n",
       "4                 0        0           0       2             1   \n",
       "...             ...      ...         ...     ...           ...   \n",
       "7027              0        1           1      24             1   \n",
       "7028              0        1           1      72             1   \n",
       "7029              0        1           1      11             0   \n",
       "7030              1        1           0       4             1   \n",
       "7031              0        0           0      66             1   \n",
       "\n",
       "      PaperlessBilling  MonthlyCharges  TotalCharges  Churn  gender_Male  ...  \\\n",
       "0                    1           29.85         29.85      0            0  ...   \n",
       "1                    0           56.95       1889.50      0            1  ...   \n",
       "2                    1           53.85        108.15      1            1  ...   \n",
       "3                    0           42.30       1840.75      0            1  ...   \n",
       "4                    1           70.70        151.65      1            0  ...   \n",
       "...                ...             ...           ...    ...          ...  ...   \n",
       "7027                 1           84.80       1990.50      0            1  ...   \n",
       "7028                 1          103.20       7362.90      0            0  ...   \n",
       "7029                 1           29.60        346.45      0            0  ...   \n",
       "7030                 1           74.40        306.60      1            1  ...   \n",
       "7031                 1          105.65       6844.50      0            1  ...   \n",
       "\n",
       "      TechSupport_Yes  StreamingTV_No internet service  StreamingTV_Yes  \\\n",
       "0                   0                                0                0   \n",
       "1                   0                                0                0   \n",
       "2                   0                                0                0   \n",
       "3                   1                                0                0   \n",
       "4                   0                                0                0   \n",
       "...               ...                              ...              ...   \n",
       "7027                1                                0                1   \n",
       "7028                0                                0                1   \n",
       "7029                0                                0                0   \n",
       "7030                0                                0                0   \n",
       "7031                1                                0                1   \n",
       "\n",
       "      StreamingMovies_No internet service  StreamingMovies_Yes  \\\n",
       "0                                       0                    0   \n",
       "1                                       0                    0   \n",
       "2                                       0                    0   \n",
       "3                                       0                    0   \n",
       "4                                       0                    0   \n",
       "...                                   ...                  ...   \n",
       "7027                                    0                    1   \n",
       "7028                                    0                    1   \n",
       "7029                                    0                    0   \n",
       "7030                                    0                    0   \n",
       "7031                                    0                    1   \n",
       "\n",
       "      Contract_One year  Contract_Two year  \\\n",
       "0                     0                  0   \n",
       "1                     1                  0   \n",
       "2                     0                  0   \n",
       "3                     1                  0   \n",
       "4                     0                  0   \n",
       "...                 ...                ...   \n",
       "7027                  1                  0   \n",
       "7028                  1                  0   \n",
       "7029                  0                  0   \n",
       "7030                  0                  0   \n",
       "7031                  0                  1   \n",
       "\n",
       "      PaymentMethod_Credit card (automatic)  PaymentMethod_Electronic check  \\\n",
       "0                                         0                               1   \n",
       "1                                         0                               0   \n",
       "2                                         0                               0   \n",
       "3                                         0                               0   \n",
       "4                                         0                               1   \n",
       "...                                     ...                             ...   \n",
       "7027                                      0                               0   \n",
       "7028                                      1                               0   \n",
       "7029                                      0                               1   \n",
       "7030                                      0                               0   \n",
       "7031                                      0                               0   \n",
       "\n",
       "      PaymentMethod_Mailed check  \n",
       "0                              0  \n",
       "1                              1  \n",
       "2                              1  \n",
       "3                              0  \n",
       "4                              0  \n",
       "...                          ...  \n",
       "7027                           1  \n",
       "7028                           0  \n",
       "7029                           0  \n",
       "7030                           1  \n",
       "7031                           0  \n",
       "\n",
       "[7032 rows x 31 columns]"
      ]
     },
     "execution_count": 2,
     "metadata": {},
     "output_type": "execute_result"
    }
   ],
   "source": [
    "df = pd.read_csv('Telco-Customer-Churn_revised.csv')\n",
    "df"
   ]
  },
  {
   "cell_type": "code",
   "execution_count": 3,
   "metadata": {},
   "outputs": [
    {
     "name": "stdout",
     "output_type": "stream",
     "text": [
      "The dataframe has 7032 rows.\n",
      "The dataframe has 31 columns.\n"
     ]
    }
   ],
   "source": [
    "print(\"The dataframe has\", df.shape[0], 'rows.')\n",
    "print('The dataframe has', df.shape[1], 'columns.')"
   ]
  },
  {
   "cell_type": "markdown",
   "metadata": {},
   "source": [
    "### Visuals"
   ]
  },
  {
   "cell_type": "code",
   "execution_count": 5,
   "metadata": {},
   "outputs": [],
   "source": [
    "import seaborn as sns"
   ]
  },
  {
   "cell_type": "code",
   "execution_count": 6,
   "metadata": {},
   "outputs": [],
   "source": [
    "nochurn = df[df['Churn'] == 0 ]\n",
    "churn = df[df['Churn'] == 1 ]"
   ]
  },
  {
   "cell_type": "code",
   "execution_count": 7,
   "metadata": {},
   "outputs": [
    {
     "data": {
      "application/javascript": [
       "\n",
       "        if (window._pyforest_update_imports_cell) { window._pyforest_update_imports_cell('import matplotlib.pyplot as plt\\nimport pandas as pd'); }\n",
       "    "
      ],
      "text/plain": [
       "<IPython.core.display.Javascript object>"
      ]
     },
     "metadata": {},
     "output_type": "display_data"
    },
    {
     "data": {
      "application/javascript": [
       "\n",
       "        if (window._pyforest_update_imports_cell) { window._pyforest_update_imports_cell('import matplotlib.pyplot as plt\\nimport pandas as pd'); }\n",
       "    "
      ],
      "text/plain": [
       "<IPython.core.display.Javascript object>"
      ]
     },
     "metadata": {},
     "output_type": "display_data"
    },
    {
     "data": {
      "image/png": "[encoded data removed]",
      "text/plain": [
       "<Figure size 432x288 with 1 Axes>"
      ]
     },
     "metadata": {
      "needs_background": "light"
     },
     "output_type": "display_data"
    }
   ],
   "source": [
    "plt.hist(nochurn['MonthlyCharges'], 20 );\n",
    "plt.hist(churn['MonthlyCharges'], 20);\n"
   ]
  },
  {
   "cell_type": "code",
   "execution_count": 69,
   "metadata": {},
   "outputs": [
    {
     "data": {
      "application/javascript": [
       "\n",
       "        if (window._pyforest_update_imports_cell) { window._pyforest_update_imports_cell('import matplotlib.pyplot as plt\\nimport pandas as pd\\nfrom sklearn.model_selection import train_test_split'); }\n",
       "    "
      ],
      "text/plain": [
       "<IPython.core.display.Javascript object>"
      ]
     },
     "metadata": {},
     "output_type": "display_data"
    },
    {
     "data": {
      "application/javascript": [
       "\n",
       "        if (window._pyforest_update_imports_cell) { window._pyforest_update_imports_cell('import matplotlib.pyplot as plt\\nimport pandas as pd\\nfrom sklearn.model_selection import train_test_split'); }\n",
       "    "
      ],
      "text/plain": [
       "<IPython.core.display.Javascript object>"
      ]
     },
     "metadata": {},
     "output_type": "display_data"
    },
    {
     "data": {
      "image/png": "[encoded data removed]",
      "text/plain": [
       "<Figure size 432x288 with 1 Axes>"
      ]
     },
     "metadata": {
      "needs_background": "light"
     },
     "output_type": "display_data"
    }
   ],
   "source": [
    "plt.hist(nochurn['TotalCharges'], 20,label = 'No' );\n",
    "plt.hist(churn['TotalCharges'], 20, label = 'Churn');"
   ]
  },
  {
   "cell_type": "code",
   "execution_count": 65,
   "metadata": {},
   "outputs": [
    {
     "data": {
      "application/javascript": [
       "\n",
       "        if (window._pyforest_update_imports_cell) { window._pyforest_update_imports_cell('import matplotlib.pyplot as plt\\nimport pandas as pd\\nfrom sklearn.model_selection import train_test_split'); }\n",
       "    "
      ],
      "text/plain": [
       "<IPython.core.display.Javascript object>"
      ]
     },
     "metadata": {},
     "output_type": "display_data"
    },
    {
     "data": {
      "application/javascript": [
       "\n",
       "        if (window._pyforest_update_imports_cell) { window._pyforest_update_imports_cell('import matplotlib.pyplot as plt\\nimport pandas as pd\\nfrom sklearn.model_selection import train_test_split'); }\n",
       "    "
      ],
      "text/plain": [
       "<IPython.core.display.Javascript object>"
      ]
     },
     "metadata": {},
     "output_type": "display_data"
    },
    {
     "data": {
      "image/png": "[encoded data removed]",
      "text/plain": [
       "<Figure size 432x288 with 1 Axes>"
      ]
     },
     "metadata": {
      "needs_background": "light"
     },
     "output_type": "display_data"
    }
   ],
   "source": [
    "plt.hist(churn['StreamingMovies_No internet service'], 20, color = 'blue')\n",
    "plt.hist(nochurn['StreamingMovies_No internet service'], 20, color = 'orange');"
   ]
  },
  {
   "cell_type": "code",
   "execution_count": null,
   "metadata": {},
   "outputs": [],
   "source": []
  },
  {
   "cell_type": "markdown",
   "metadata": {},
   "source": [
    "### EDA"
   ]
  },
  {
   "cell_type": "markdown",
   "metadata": {},
   "source": [
    "### X-Value"
   ]
  },
  {
   "cell_type": "code",
   "execution_count": 7,
   "metadata": {},
   "outputs": [
    {
     "data": {
      "application/javascript": [
       "\n",
       "        if (window._pyforest_update_imports_cell) { window._pyforest_update_imports_cell('import pandas as pd'); }\n",
       "    "
      ],
      "text/plain": [
       "<IPython.core.display.Javascript object>"
      ]
     },
     "metadata": {},
     "output_type": "display_data"
    }
   ],
   "source": [
    "df = pd.get_dummies(df, columns = ['gender','MultipleLines','InternetService', 'OnlineSecurity','OnlineBackup','DeviceProtection','TechSupport','StreamingTV','StreamingMovies','Contract','PaymentMethod', 'Partner', 'Dependents', 'PaperlessBilling'], drop_first = True)"
   ]
  },
  {
   "cell_type": "code",
   "execution_count": null,
   "metadata": {},
   "outputs": [],
   "source": [
    "df['TotalCharges'].value_counts().index[0] == ' '\n",
    "#11 columns with ' ' for total charges\n",
    "df = df[df['TotalCharges'] != ' ']"
   ]
  },
  {
   "cell_type": "markdown",
   "metadata": {},
   "source": [
    "##### adjusting y_value"
   ]
  },
  {
   "cell_type": "code",
   "execution_count": null,
   "metadata": {},
   "outputs": [],
   "source": [
    "df['Churn'].value_counts()\n",
    "# 0.2657 churn rate"
   ]
  },
  {
   "cell_type": "code",
   "execution_count": null,
   "metadata": {},
   "outputs": [],
   "source": [
    "churn_scale = {'Yes': 1, 'No': 0}"
   ]
  },
  {
   "cell_type": "code",
   "execution_count": null,
   "metadata": {},
   "outputs": [],
   "source": [
    "df['Churn'] = df['Churn'].map(churn_scale)"
   ]
  },
  {
   "cell_type": "markdown",
   "metadata": {},
   "source": [
    "### Modeling"
   ]
  },
  {
   "cell_type": "code",
   "execution_count": 8,
   "metadata": {},
   "outputs": [],
   "source": [
    "models = [LogisticRegression, KNeighborsClassifier, SVC, DecisionTreeClassifier, AdaBoostClassifier, BaggingClassifier, RandomForestClassifier, XGBClassifier, LGBMClassifier, CatBoostClassifier]"
   ]
  },
  {
   "cell_type": "code",
   "execution_count": 48,
   "metadata": {},
   "outputs": [
    {
     "data": {
      "text/plain": [
       "tenure                                  -0.354049\n",
       "Contract_Two year                       -0.301552\n",
       "StreamingMovies_No internet service     -0.227578\n",
       "StreamingTV_No internet service         -0.227578\n",
       "TechSupport_No internet service         -0.227578\n",
       "DeviceProtection_No internet service    -0.227578\n",
       "InternetService_No                      -0.227578\n",
       "OnlineSecurity_No internet service      -0.227578\n",
       "OnlineBackup_No internet service        -0.227578\n",
       "TotalCharges                            -0.199484\n",
       "Contract_One year                       -0.178225\n",
       "OnlineSecurity_Yes                      -0.171270\n",
       "TechSupport_Yes                         -0.164716\n",
       "Dependents                              -0.163128\n",
       "Partner                                 -0.149982\n",
       "PaymentMethod_Credit card (automatic)   -0.134687\n",
       "PaymentMethod_Mailed check              -0.090773\n",
       "OnlineBackup_Yes                        -0.082307\n",
       "DeviceProtection_Yes                    -0.066193\n",
       "MultipleLines_No phone service          -0.011691\n",
       "gender_Male                             -0.008545\n",
       "PhoneService                             0.011691\n",
       "MultipleLines_Yes                        0.040033\n",
       "StreamingMovies_Yes                      0.060860\n",
       "StreamingTV_Yes                          0.063254\n",
       "SeniorCitizen                            0.150541\n",
       "PaperlessBilling                         0.191454\n",
       "MonthlyCharges                           0.192858\n",
       "PaymentMethod_Electronic check           0.301455\n",
       "InternetService_Fiber optic              0.307463\n",
       "Churn                                    1.000000\n",
       "Name: Churn, dtype: float64"
      ]
     },
     "execution_count": 48,
     "metadata": {},
     "output_type": "execute_result"
    }
   ],
   "source": [
    "df.corr()['Churn'].sort_values()"
   ]
  },
  {
   "cell_type": "code",
   "execution_count": 9,
   "metadata": {},
   "outputs": [],
   "source": [
    "X = df[['SeniorCitizen', 'Partner', 'Dependents', 'tenure', 'PhoneService',\n",
    "       'PaperlessBilling', 'MonthlyCharges', 'TotalCharges',\n",
    "       'gender_Male','MultipleLines_No phone service', 'MultipleLines_Yes',\n",
    "       'InternetService_Fiber optic', 'InternetService_No',\n",
    "       'OnlineSecurity_No internet service', 'OnlineSecurity_Yes',\n",
    "       'OnlineBackup_No internet service', 'OnlineBackup_Yes',\n",
    "       'DeviceProtection_No internet service', 'DeviceProtection_Yes',\n",
    "       'TechSupport_No internet service', 'TechSupport_Yes',\n",
    "       'StreamingTV_No internet service', 'StreamingTV_Yes',\n",
    "       'StreamingMovies_No internet service', 'StreamingMovies_Yes',\n",
    "       'Contract_One year', 'Contract_Two year',\n",
    "       'PaymentMethod_Credit card (automatic)',\n",
    "       'PaymentMethod_Electronic check', 'PaymentMethod_Mailed check']]\n",
    "y = df['Churn']"
   ]
  },
  {
   "cell_type": "code",
   "execution_count": 10,
   "metadata": {},
   "outputs": [
    {
     "data": {
      "application/javascript": [
       "\n",
       "        if (window._pyforest_update_imports_cell) { window._pyforest_update_imports_cell('import matplotlib.pyplot as plt\\nimport pandas as pd\\nfrom sklearn.model_selection import train_test_split'); }\n",
       "    "
      ],
      "text/plain": [
       "<IPython.core.display.Javascript object>"
      ]
     },
     "metadata": {},
     "output_type": "display_data"
    }
   ],
   "source": [
    "X_train, X_test, y_train, y_test = train_test_split(X, y, random_state = 13)"
   ]
  },
  {
   "cell_type": "code",
   "execution_count": 11,
   "metadata": {},
   "outputs": [],
   "source": [
    "def model_fit_score(model):\n",
    "    model = model()\n",
    "    model.fit(X_train, y_train)\n",
    "    train_score = model.score(X_train, y_train)\n",
    "    test_score = model.score(X_test, y_test)\n",
    "    print(f'model: {str(model)}, train_score: {train_score}, test_score: {test_score}')"
   ]
  },
  {
   "cell_type": "code",
   "execution_count": 12,
   "metadata": {},
   "outputs": [
    {
     "name": "stderr",
     "output_type": "stream",
     "text": [
      "C:\\Users\\bhuan\\Anaconda3\\lib\\site-packages\\sklearn\\linear_model\\logistic.py:432: FutureWarning: Default solver will be changed to 'lbfgs' in 0.22. Specify a solver to silence this warning.\n",
      "  FutureWarning)\n"
     ]
    },
    {
     "name": "stdout",
     "output_type": "stream",
     "text": [
      "model: LogisticRegression(C=1.0, class_weight=None, dual=False, fit_intercept=True,\n",
      "                   intercept_scaling=1, l1_ratio=None, max_iter=100,\n",
      "                   multi_class='warn', n_jobs=None, penalty='l2',\n",
      "                   random_state=None, solver='warn', tol=0.0001, verbose=0,\n",
      "                   warm_start=False), train_score: 0.8052711414486159, test_score: 0.7992036405005688\n",
      "model: KNeighborsClassifier(algorithm='auto', leaf_size=30, metric='minkowski',\n",
      "                     metric_params=None, n_jobs=None, n_neighbors=5, p=2,\n",
      "                     weights='uniform'), train_score: 0.8265073947667805, test_score: 0.770193401592719\n"
     ]
    },
    {
     "name": "stderr",
     "output_type": "stream",
     "text": [
      "C:\\Users\\bhuan\\Anaconda3\\lib\\site-packages\\sklearn\\svm\\base.py:193: FutureWarning: The default value of gamma will change from 'auto' to 'scale' in version 0.22 to account better for unscaled features. Set gamma explicitly to 'auto' or 'scale' to avoid this warning.\n",
      "  \"avoid this warning.\", FutureWarning)\n"
     ]
    },
    {
     "name": "stdout",
     "output_type": "stream",
     "text": [
      "model: SVC(C=1.0, cache_size=200, class_weight=None, coef0=0.0,\n",
      "    decision_function_shape='ovr', degree=3, gamma='auto_deprecated',\n",
      "    kernel='rbf', max_iter=-1, probability=False, random_state=None,\n",
      "    shrinking=True, tol=0.001, verbose=False), train_score: 0.9184679560106181, test_score: 0.7707622298065984\n",
      "model: DecisionTreeClassifier(class_weight=None, criterion='gini', max_depth=None,\n",
      "                       max_features=None, max_leaf_nodes=None,\n",
      "                       min_impurity_decrease=0.0, min_impurity_split=None,\n",
      "                       min_samples_leaf=1, min_samples_split=2,\n",
      "                       min_weight_fraction_leaf=0.0, presort=False,\n",
      "                       random_state=None, splitter='best'), train_score: 0.9973454683352294, test_score: 0.729806598407281\n",
      "model: AdaBoostClassifier(algorithm='SAMME.R', base_estimator=None, learning_rate=1.0,\n",
      "                   n_estimators=50, random_state=None), train_score: 0.8056503602578687, test_score: 0.8077360637087599\n",
      "model: BaggingClassifier(base_estimator=None, bootstrap=True, bootstrap_features=False,\n",
      "                  max_features=1.0, max_samples=1.0, n_estimators=10,\n",
      "                  n_jobs=None, oob_score=False, random_state=None, verbose=0,\n",
      "                  warm_start=False), train_score: 0.9827455441789913, test_score: 0.7764505119453925\n"
     ]
    },
    {
     "name": "stderr",
     "output_type": "stream",
     "text": [
      "C:\\Users\\bhuan\\Anaconda3\\lib\\site-packages\\sklearn\\ensemble\\forest.py:245: FutureWarning: The default value of n_estimators will change from 10 in version 0.20 to 100 in 0.22.\n",
      "  \"10 in version 0.20 to 100 in 0.22.\", FutureWarning)\n"
     ]
    },
    {
     "name": "stdout",
     "output_type": "stream",
     "text": [
      "model: RandomForestClassifier(bootstrap=True, class_weight=None, criterion='gini',\n",
      "                       max_depth=None, max_features='auto', max_leaf_nodes=None,\n",
      "                       min_impurity_decrease=0.0, min_impurity_split=None,\n",
      "                       min_samples_leaf=1, min_samples_split=2,\n",
      "                       min_weight_fraction_leaf=0.0, n_estimators=10,\n",
      "                       n_jobs=None, oob_score=False, random_state=None,\n",
      "                       verbose=0, warm_start=False), train_score: 0.9800910125142207, test_score: 0.7923777019340159\n",
      "model: XGBClassifier(base_score=0.5, booster='gbtree', colsample_bylevel=1,\n",
      "              colsample_bynode=1, colsample_bytree=1, gamma=0,\n",
      "              learning_rate=0.1, max_delta_step=0, max_depth=3,\n",
      "              min_child_weight=1, missing=None, n_estimators=100, n_jobs=1,\n",
      "              nthread=None, objective='binary:logistic', random_state=0,\n",
      "              reg_alpha=0, reg_lambda=1, scale_pos_weight=1, seed=None,\n",
      "              silent=None, subsample=1, verbosity=1), train_score: 0.8285930982176716, test_score: 0.7957906712172924\n",
      "model: LGBMClassifier(boosting_type='gbdt', class_weight=None, colsample_bytree=1.0,\n",
      "               importance_type='split', learning_rate=0.1, max_depth=-1,\n",
      "               min_child_samples=20, min_child_weight=0.001, min_split_gain=0.0,\n",
      "               n_estimators=100, n_jobs=-1, num_leaves=31, objective=None,\n",
      "               random_state=None, reg_alpha=0.0, reg_lambda=0.0, silent=True,\n",
      "               subsample=1.0, subsample_for_bin=200000, subsample_freq=0), train_score: 0.8782707622298066, test_score: 0.7946530147895335\n",
      "Learning rate set to 0.020955\n",
      "0:\tlearn: 0.6800051\ttotal: 89.6ms\tremaining: 1m 29s\n",
      "1:\tlearn: 0.6672799\ttotal: 96.4ms\tremaining: 48.1s\n",
      "2:\tlearn: 0.6549769\ttotal: 102ms\tremaining: 33.8s\n",
      "3:\tlearn: 0.6439141\ttotal: 111ms\tremaining: 27.6s\n",
      "4:\tlearn: 0.6335661\ttotal: 115ms\tremaining: 22.9s\n",
      "5:\tlearn: 0.6216425\ttotal: 120ms\tremaining: 19.9s\n",
      "6:\tlearn: 0.6122671\ttotal: 125ms\tremaining: 17.7s\n",
      "7:\tlearn: 0.6031465\ttotal: 129ms\tremaining: 15.9s\n",
      "8:\tlearn: 0.5939294\ttotal: 132ms\tremaining: 14.6s\n",
      "9:\tlearn: 0.5858144\ttotal: 137ms\tremaining: 13.5s\n",
      "10:\tlearn: 0.5779415\ttotal: 142ms\tremaining: 12.8s\n",
      "11:\tlearn: 0.5708557\ttotal: 146ms\tremaining: 12s\n",
      "12:\tlearn: 0.5627521\ttotal: 150ms\tremaining: 11.4s\n",
      "13:\tlearn: 0.5560015\ttotal: 154ms\tremaining: 10.9s\n",
      "14:\tlearn: 0.5495043\ttotal: 158ms\tremaining: 10.4s\n",
      "15:\tlearn: 0.5436054\ttotal: 162ms\tremaining: 9.94s\n",
      "16:\tlearn: 0.5384457\ttotal: 165ms\tremaining: 9.56s\n",
      "17:\tlearn: 0.5331585\ttotal: 169ms\tremaining: 9.22s\n",
      "18:\tlearn: 0.5268849\ttotal: 173ms\tremaining: 8.93s\n",
      "19:\tlearn: 0.5212031\ttotal: 177ms\tremaining: 8.65s\n",
      "20:\tlearn: 0.5163023\ttotal: 180ms\tremaining: 8.41s\n",
      "21:\tlearn: 0.5109278\ttotal: 184ms\tremaining: 8.19s\n",
      "22:\tlearn: 0.5073796\ttotal: 187ms\tremaining: 7.94s\n",
      "23:\tlearn: 0.5041194\ttotal: 189ms\tremaining: 7.68s\n",
      "24:\tlearn: 0.5000900\ttotal: 193ms\tremaining: 7.51s\n",
      "25:\tlearn: 0.4966869\ttotal: 196ms\tremaining: 7.36s\n",
      "26:\tlearn: 0.4931841\ttotal: 200ms\tremaining: 7.21s\n",
      "27:\tlearn: 0.4898455\ttotal: 204ms\tremaining: 7.08s\n",
      "28:\tlearn: 0.4867919\ttotal: 208ms\tremaining: 6.95s\n",
      "29:\tlearn: 0.4840684\ttotal: 211ms\tremaining: 6.83s\n",
      "30:\tlearn: 0.4809133\ttotal: 215ms\tremaining: 6.72s\n",
      "31:\tlearn: 0.4779037\ttotal: 219ms\tremaining: 6.62s\n",
      "32:\tlearn: 0.4748501\ttotal: 223ms\tremaining: 6.53s\n",
      "33:\tlearn: 0.4723326\ttotal: 227ms\tremaining: 6.44s\n",
      "34:\tlearn: 0.4695524\ttotal: 232ms\tremaining: 6.41s\n",
      "35:\tlearn: 0.4665569\ttotal: 236ms\tremaining: 6.32s\n",
      "36:\tlearn: 0.4642407\ttotal: 240ms\tremaining: 6.24s\n",
      "37:\tlearn: 0.4622964\ttotal: 244ms\tremaining: 6.17s\n",
      "38:\tlearn: 0.4604825\ttotal: 247ms\tremaining: 6.09s\n",
      "39:\tlearn: 0.4585934\ttotal: 251ms\tremaining: 6.03s\n",
      "40:\tlearn: 0.4570171\ttotal: 254ms\tremaining: 5.94s\n",
      "41:\tlearn: 0.4554887\ttotal: 260ms\tremaining: 5.93s\n",
      "42:\tlearn: 0.4536311\ttotal: 268ms\tremaining: 5.97s\n",
      "43:\tlearn: 0.4520317\ttotal: 272ms\tremaining: 5.91s\n",
      "44:\tlearn: 0.4503632\ttotal: 277ms\tremaining: 5.88s\n",
      "45:\tlearn: 0.4488822\ttotal: 282ms\tremaining: 5.84s\n",
      "46:\tlearn: 0.4473879\ttotal: 288ms\tremaining: 5.84s\n",
      "47:\tlearn: 0.4458772\ttotal: 295ms\tremaining: 5.85s\n",
      "48:\tlearn: 0.4444935\ttotal: 300ms\tremaining: 5.81s\n",
      "49:\tlearn: 0.4427577\ttotal: 304ms\tremaining: 5.77s\n",
      "50:\tlearn: 0.4414477\ttotal: 309ms\tremaining: 5.75s\n",
      "51:\tlearn: 0.4400713\ttotal: 313ms\tremaining: 5.7s\n",
      "52:\tlearn: 0.4387074\ttotal: 317ms\tremaining: 5.66s\n",
      "53:\tlearn: 0.4377949\ttotal: 321ms\tremaining: 5.62s\n",
      "54:\tlearn: 0.4366441\ttotal: 328ms\tremaining: 5.64s\n",
      "55:\tlearn: 0.4354617\ttotal: 332ms\tremaining: 5.6s\n",
      "56:\tlearn: 0.4344134\ttotal: 336ms\tremaining: 5.56s\n",
      "57:\tlearn: 0.4332599\ttotal: 340ms\tremaining: 5.52s\n",
      "58:\tlearn: 0.4323455\ttotal: 344ms\tremaining: 5.48s\n",
      "59:\tlearn: 0.4315020\ttotal: 348ms\tremaining: 5.45s\n",
      "60:\tlearn: 0.4305654\ttotal: 351ms\tremaining: 5.41s\n",
      "61:\tlearn: 0.4294811\ttotal: 355ms\tremaining: 5.37s\n",
      "62:\tlearn: 0.4285401\ttotal: 359ms\tremaining: 5.34s\n",
      "63:\tlearn: 0.4277067\ttotal: 363ms\tremaining: 5.3s\n",
      "64:\tlearn: 0.4268638\ttotal: 366ms\tremaining: 5.27s\n",
      "65:\tlearn: 0.4258139\ttotal: 371ms\tremaining: 5.24s\n",
      "66:\tlearn: 0.4250771\ttotal: 374ms\tremaining: 5.21s\n",
      "67:\tlearn: 0.4244896\ttotal: 378ms\tremaining: 5.18s\n",
      "68:\tlearn: 0.4238904\ttotal: 382ms\tremaining: 5.15s\n",
      "69:\tlearn: 0.4232167\ttotal: 386ms\tremaining: 5.12s\n",
      "70:\tlearn: 0.4226125\ttotal: 389ms\tremaining: 5.09s\n",
      "71:\tlearn: 0.4218007\ttotal: 393ms\tremaining: 5.07s\n",
      "72:\tlearn: 0.4210668\ttotal: 397ms\tremaining: 5.04s\n",
      "73:\tlearn: 0.4204362\ttotal: 401ms\tremaining: 5.01s\n",
      "74:\tlearn: 0.4199653\ttotal: 404ms\tremaining: 4.99s\n",
      "75:\tlearn: 0.4196089\ttotal: 407ms\tremaining: 4.95s\n",
      "76:\tlearn: 0.4190367\ttotal: 412ms\tremaining: 4.94s\n",
      "77:\tlearn: 0.4184660\ttotal: 419ms\tremaining: 4.95s\n",
      "78:\tlearn: 0.4179281\ttotal: 423ms\tremaining: 4.93s\n",
      "79:\tlearn: 0.4174904\ttotal: 428ms\tremaining: 4.92s\n",
      "80:\tlearn: 0.4169693\ttotal: 435ms\tremaining: 4.93s\n",
      "81:\tlearn: 0.4165660\ttotal: 441ms\tremaining: 4.93s\n",
      "82:\tlearn: 0.4160061\ttotal: 449ms\tremaining: 4.96s\n",
      "83:\tlearn: 0.4155970\ttotal: 455ms\tremaining: 4.96s\n",
      "84:\tlearn: 0.4149807\ttotal: 464ms\tremaining: 4.99s\n",
      "85:\tlearn: 0.4145334\ttotal: 470ms\tremaining: 5s\n",
      "86:\tlearn: 0.4139328\ttotal: 477ms\tremaining: 5.01s\n",
      "87:\tlearn: 0.4134891\ttotal: 484ms\tremaining: 5.01s\n",
      "88:\tlearn: 0.4130376\ttotal: 489ms\tremaining: 5s\n",
      "89:\tlearn: 0.4126418\ttotal: 498ms\tremaining: 5.03s\n",
      "90:\tlearn: 0.4121177\ttotal: 503ms\tremaining: 5.03s\n",
      "91:\tlearn: 0.4116516\ttotal: 510ms\tremaining: 5.04s\n",
      "92:\tlearn: 0.4111980\ttotal: 517ms\tremaining: 5.04s\n",
      "93:\tlearn: 0.4108561\ttotal: 523ms\tremaining: 5.04s\n",
      "94:\tlearn: 0.4106079\ttotal: 529ms\tremaining: 5.04s\n",
      "95:\tlearn: 0.4102909\ttotal: 541ms\tremaining: 5.09s\n",
      "96:\tlearn: 0.4099365\ttotal: 549ms\tremaining: 5.11s\n",
      "97:\tlearn: 0.4095801\ttotal: 562ms\tremaining: 5.17s\n",
      "98:\tlearn: 0.4091621\ttotal: 570ms\tremaining: 5.18s\n",
      "99:\tlearn: 0.4088720\ttotal: 577ms\tremaining: 5.2s\n",
      "100:\tlearn: 0.4084448\ttotal: 590ms\tremaining: 5.25s\n",
      "101:\tlearn: 0.4080396\ttotal: 600ms\tremaining: 5.28s\n",
      "102:\tlearn: 0.4076223\ttotal: 609ms\tremaining: 5.3s\n",
      "103:\tlearn: 0.4073101\ttotal: 615ms\tremaining: 5.3s\n",
      "104:\tlearn: 0.4069503\ttotal: 621ms\tremaining: 5.29s\n",
      "105:\tlearn: 0.4065965\ttotal: 626ms\tremaining: 5.28s\n",
      "106:\tlearn: 0.4062662\ttotal: 635ms\tremaining: 5.3s\n",
      "107:\tlearn: 0.4058187\ttotal: 640ms\tremaining: 5.29s\n",
      "108:\tlearn: 0.4054488\ttotal: 646ms\tremaining: 5.28s\n",
      "109:\tlearn: 0.4051195\ttotal: 653ms\tremaining: 5.28s\n",
      "110:\tlearn: 0.4047975\ttotal: 658ms\tremaining: 5.27s\n",
      "111:\tlearn: 0.4044998\ttotal: 665ms\tremaining: 5.27s\n",
      "112:\tlearn: 0.4041625\ttotal: 670ms\tremaining: 5.26s\n",
      "113:\tlearn: 0.4038296\ttotal: 675ms\tremaining: 5.25s\n",
      "114:\tlearn: 0.4035890\ttotal: 680ms\tremaining: 5.23s\n",
      "115:\tlearn: 0.4033047\ttotal: 684ms\tremaining: 5.21s\n",
      "116:\tlearn: 0.4029948\ttotal: 687ms\tremaining: 5.19s\n",
      "117:\tlearn: 0.4027550\ttotal: 692ms\tremaining: 5.17s\n",
      "118:\tlearn: 0.4025601\ttotal: 695ms\tremaining: 5.15s\n",
      "119:\tlearn: 0.4023505\ttotal: 699ms\tremaining: 5.13s\n",
      "120:\tlearn: 0.4021331\ttotal: 703ms\tremaining: 5.11s\n",
      "121:\tlearn: 0.4018720\ttotal: 707ms\tremaining: 5.09s\n",
      "122:\tlearn: 0.4016372\ttotal: 711ms\tremaining: 5.07s\n",
      "123:\tlearn: 0.4015244\ttotal: 714ms\tremaining: 5.04s\n",
      "124:\tlearn: 0.4013126\ttotal: 718ms\tremaining: 5.02s\n",
      "125:\tlearn: 0.4009415\ttotal: 722ms\tremaining: 5s\n",
      "126:\tlearn: 0.4005746\ttotal: 725ms\tremaining: 4.99s\n",
      "127:\tlearn: 0.4003697\ttotal: 729ms\tremaining: 4.97s\n",
      "128:\tlearn: 0.4000898\ttotal: 733ms\tremaining: 4.95s\n",
      "129:\tlearn: 0.3998274\ttotal: 737ms\tremaining: 4.93s\n",
      "130:\tlearn: 0.3994930\ttotal: 740ms\tremaining: 4.91s\n",
      "131:\tlearn: 0.3992127\ttotal: 744ms\tremaining: 4.89s\n",
      "132:\tlearn: 0.3987455\ttotal: 748ms\tremaining: 4.88s\n",
      "133:\tlearn: 0.3985163\ttotal: 752ms\tremaining: 4.86s\n",
      "134:\tlearn: 0.3982840\ttotal: 756ms\tremaining: 4.84s\n",
      "135:\tlearn: 0.3980356\ttotal: 760ms\tremaining: 4.83s\n",
      "136:\tlearn: 0.3978375\ttotal: 763ms\tremaining: 4.81s\n",
      "137:\tlearn: 0.3976957\ttotal: 767ms\tremaining: 4.79s\n",
      "138:\tlearn: 0.3975219\ttotal: 771ms\tremaining: 4.78s\n"
     ]
    },
    {
     "name": "stdout",
     "output_type": "stream",
     "text": [
      "139:\tlearn: 0.3973447\ttotal: 779ms\tremaining: 4.78s\n",
      "140:\tlearn: 0.3971508\ttotal: 784ms\tremaining: 4.77s\n",
      "141:\tlearn: 0.3969542\ttotal: 789ms\tremaining: 4.76s\n",
      "142:\tlearn: 0.3966467\ttotal: 793ms\tremaining: 4.75s\n",
      "143:\tlearn: 0.3963277\ttotal: 799ms\tremaining: 4.75s\n",
      "144:\tlearn: 0.3962286\ttotal: 804ms\tremaining: 4.74s\n",
      "145:\tlearn: 0.3960004\ttotal: 807ms\tremaining: 4.72s\n",
      "146:\tlearn: 0.3957246\ttotal: 811ms\tremaining: 4.71s\n",
      "147:\tlearn: 0.3956093\ttotal: 816ms\tremaining: 4.7s\n",
      "148:\tlearn: 0.3954775\ttotal: 820ms\tremaining: 4.68s\n",
      "149:\tlearn: 0.3952904\ttotal: 824ms\tremaining: 4.67s\n",
      "150:\tlearn: 0.3950781\ttotal: 828ms\tremaining: 4.65s\n",
      "151:\tlearn: 0.3948601\ttotal: 832ms\tremaining: 4.64s\n",
      "152:\tlearn: 0.3946195\ttotal: 835ms\tremaining: 4.62s\n",
      "153:\tlearn: 0.3944573\ttotal: 839ms\tremaining: 4.61s\n",
      "154:\tlearn: 0.3942932\ttotal: 843ms\tremaining: 4.6s\n",
      "155:\tlearn: 0.3942017\ttotal: 847ms\tremaining: 4.58s\n",
      "156:\tlearn: 0.3940229\ttotal: 851ms\tremaining: 4.57s\n",
      "157:\tlearn: 0.3938996\ttotal: 854ms\tremaining: 4.55s\n",
      "158:\tlearn: 0.3936234\ttotal: 858ms\tremaining: 4.54s\n",
      "159:\tlearn: 0.3935108\ttotal: 862ms\tremaining: 4.53s\n",
      "160:\tlearn: 0.3933414\ttotal: 866ms\tremaining: 4.51s\n",
      "161:\tlearn: 0.3930536\ttotal: 869ms\tremaining: 4.5s\n",
      "162:\tlearn: 0.3928259\ttotal: 874ms\tremaining: 4.49s\n",
      "163:\tlearn: 0.3925784\ttotal: 879ms\tremaining: 4.48s\n",
      "164:\tlearn: 0.3923252\ttotal: 884ms\tremaining: 4.47s\n",
      "165:\tlearn: 0.3922090\ttotal: 889ms\tremaining: 4.46s\n",
      "166:\tlearn: 0.3919995\ttotal: 894ms\tremaining: 4.46s\n",
      "167:\tlearn: 0.3918292\ttotal: 899ms\tremaining: 4.45s\n",
      "168:\tlearn: 0.3915911\ttotal: 908ms\tremaining: 4.46s\n",
      "169:\tlearn: 0.3914880\ttotal: 913ms\tremaining: 4.46s\n",
      "170:\tlearn: 0.3913617\ttotal: 918ms\tremaining: 4.45s\n",
      "171:\tlearn: 0.3912020\ttotal: 922ms\tremaining: 4.44s\n",
      "172:\tlearn: 0.3910278\ttotal: 925ms\tremaining: 4.42s\n",
      "173:\tlearn: 0.3908263\ttotal: 929ms\tremaining: 4.41s\n",
      "174:\tlearn: 0.3905429\ttotal: 933ms\tremaining: 4.4s\n",
      "175:\tlearn: 0.3903750\ttotal: 937ms\tremaining: 4.38s\n",
      "176:\tlearn: 0.3902215\ttotal: 940ms\tremaining: 4.37s\n",
      "177:\tlearn: 0.3900091\ttotal: 944ms\tremaining: 4.36s\n",
      "178:\tlearn: 0.3898232\ttotal: 948ms\tremaining: 4.35s\n",
      "179:\tlearn: 0.3896804\ttotal: 953ms\tremaining: 4.34s\n",
      "180:\tlearn: 0.3895200\ttotal: 958ms\tremaining: 4.34s\n",
      "181:\tlearn: 0.3893825\ttotal: 963ms\tremaining: 4.33s\n",
      "182:\tlearn: 0.3892670\ttotal: 967ms\tremaining: 4.32s\n",
      "183:\tlearn: 0.3890495\ttotal: 973ms\tremaining: 4.31s\n",
      "184:\tlearn: 0.3888142\ttotal: 977ms\tremaining: 4.3s\n",
      "185:\tlearn: 0.3887086\ttotal: 981ms\tremaining: 4.29s\n",
      "186:\tlearn: 0.3886353\ttotal: 986ms\tremaining: 4.29s\n",
      "187:\tlearn: 0.3884429\ttotal: 990ms\tremaining: 4.27s\n",
      "188:\tlearn: 0.3884289\ttotal: 992ms\tremaining: 4.26s\n",
      "189:\tlearn: 0.3882745\ttotal: 995ms\tremaining: 4.24s\n",
      "190:\tlearn: 0.3880296\ttotal: 1s\tremaining: 4.24s\n",
      "191:\tlearn: 0.3878564\ttotal: 1s\tremaining: 4.22s\n",
      "192:\tlearn: 0.3876822\ttotal: 1.01s\tremaining: 4.21s\n",
      "193:\tlearn: 0.3875662\ttotal: 1.01s\tremaining: 4.2s\n",
      "194:\tlearn: 0.3874888\ttotal: 1.01s\tremaining: 4.19s\n",
      "195:\tlearn: 0.3872972\ttotal: 1.02s\tremaining: 4.19s\n",
      "196:\tlearn: 0.3871853\ttotal: 1.02s\tremaining: 4.18s\n",
      "197:\tlearn: 0.3870043\ttotal: 1.03s\tremaining: 4.17s\n",
      "198:\tlearn: 0.3868085\ttotal: 1.03s\tremaining: 4.16s\n",
      "199:\tlearn: 0.3865788\ttotal: 1.04s\tremaining: 4.15s\n",
      "200:\tlearn: 0.3863798\ttotal: 1.04s\tremaining: 4.13s\n",
      "201:\tlearn: 0.3860772\ttotal: 1.04s\tremaining: 4.12s\n",
      "202:\tlearn: 0.3858340\ttotal: 1.05s\tremaining: 4.11s\n",
      "203:\tlearn: 0.3857124\ttotal: 1.05s\tremaining: 4.1s\n",
      "204:\tlearn: 0.3854116\ttotal: 1.05s\tremaining: 4.09s\n",
      "205:\tlearn: 0.3852795\ttotal: 1.06s\tremaining: 4.08s\n",
      "206:\tlearn: 0.3851367\ttotal: 1.06s\tremaining: 4.07s\n",
      "207:\tlearn: 0.3849055\ttotal: 1.07s\tremaining: 4.06s\n",
      "208:\tlearn: 0.3847926\ttotal: 1.07s\tremaining: 4.05s\n",
      "209:\tlearn: 0.3845876\ttotal: 1.07s\tremaining: 4.04s\n",
      "210:\tlearn: 0.3844385\ttotal: 1.08s\tremaining: 4.03s\n",
      "211:\tlearn: 0.3842264\ttotal: 1.08s\tremaining: 4.02s\n",
      "212:\tlearn: 0.3840802\ttotal: 1.08s\tremaining: 4.01s\n",
      "213:\tlearn: 0.3839484\ttotal: 1.09s\tremaining: 4s\n",
      "214:\tlearn: 0.3837716\ttotal: 1.09s\tremaining: 3.99s\n",
      "215:\tlearn: 0.3836308\ttotal: 1.1s\tremaining: 3.98s\n",
      "216:\tlearn: 0.3835058\ttotal: 1.1s\tremaining: 3.97s\n",
      "217:\tlearn: 0.3832977\ttotal: 1.1s\tremaining: 3.96s\n",
      "218:\tlearn: 0.3831661\ttotal: 1.11s\tremaining: 3.95s\n",
      "219:\tlearn: 0.3829948\ttotal: 1.11s\tremaining: 3.94s\n",
      "220:\tlearn: 0.3828784\ttotal: 1.11s\tremaining: 3.93s\n",
      "221:\tlearn: 0.3826166\ttotal: 1.12s\tremaining: 3.92s\n",
      "222:\tlearn: 0.3825165\ttotal: 1.13s\tremaining: 3.92s\n",
      "223:\tlearn: 0.3824134\ttotal: 1.13s\tremaining: 3.91s\n",
      "224:\tlearn: 0.3822373\ttotal: 1.13s\tremaining: 3.91s\n",
      "225:\tlearn: 0.3820962\ttotal: 1.14s\tremaining: 3.9s\n",
      "226:\tlearn: 0.3820946\ttotal: 1.14s\tremaining: 3.89s\n",
      "227:\tlearn: 0.3819777\ttotal: 1.15s\tremaining: 3.88s\n",
      "228:\tlearn: 0.3817992\ttotal: 1.15s\tremaining: 3.87s\n",
      "229:\tlearn: 0.3816195\ttotal: 1.15s\tremaining: 3.87s\n",
      "230:\tlearn: 0.3815368\ttotal: 1.16s\tremaining: 3.86s\n",
      "231:\tlearn: 0.3813924\ttotal: 1.16s\tremaining: 3.85s\n",
      "232:\tlearn: 0.3813160\ttotal: 1.17s\tremaining: 3.84s\n",
      "233:\tlearn: 0.3812170\ttotal: 1.17s\tremaining: 3.83s\n",
      "234:\tlearn: 0.3809688\ttotal: 1.17s\tremaining: 3.82s\n",
      "235:\tlearn: 0.3808028\ttotal: 1.18s\tremaining: 3.81s\n",
      "236:\tlearn: 0.3806609\ttotal: 1.18s\tremaining: 3.8s\n",
      "237:\tlearn: 0.3805524\ttotal: 1.19s\tremaining: 3.79s\n",
      "238:\tlearn: 0.3804449\ttotal: 1.19s\tremaining: 3.79s\n",
      "239:\tlearn: 0.3802222\ttotal: 1.19s\tremaining: 3.78s\n",
      "240:\tlearn: 0.3801027\ttotal: 1.2s\tremaining: 3.77s\n",
      "241:\tlearn: 0.3799890\ttotal: 1.2s\tremaining: 3.76s\n",
      "242:\tlearn: 0.3798464\ttotal: 1.2s\tremaining: 3.75s\n",
      "243:\tlearn: 0.3796844\ttotal: 1.21s\tremaining: 3.74s\n",
      "244:\tlearn: 0.3795478\ttotal: 1.21s\tremaining: 3.73s\n",
      "245:\tlearn: 0.3794746\ttotal: 1.22s\tremaining: 3.72s\n",
      "246:\tlearn: 0.3793639\ttotal: 1.22s\tremaining: 3.72s\n",
      "247:\tlearn: 0.3791385\ttotal: 1.22s\tremaining: 3.71s\n",
      "248:\tlearn: 0.3790537\ttotal: 1.23s\tremaining: 3.7s\n",
      "249:\tlearn: 0.3788609\ttotal: 1.23s\tremaining: 3.69s\n",
      "250:\tlearn: 0.3787069\ttotal: 1.23s\tremaining: 3.68s\n",
      "251:\tlearn: 0.3785934\ttotal: 1.24s\tremaining: 3.67s\n",
      "252:\tlearn: 0.3785350\ttotal: 1.24s\tremaining: 3.67s\n",
      "253:\tlearn: 0.3784168\ttotal: 1.25s\tremaining: 3.66s\n",
      "254:\tlearn: 0.3782642\ttotal: 1.25s\tremaining: 3.65s\n",
      "255:\tlearn: 0.3780104\ttotal: 1.25s\tremaining: 3.64s\n",
      "256:\tlearn: 0.3778053\ttotal: 1.26s\tremaining: 3.63s\n",
      "257:\tlearn: 0.3777944\ttotal: 1.26s\tremaining: 3.62s\n",
      "258:\tlearn: 0.3776680\ttotal: 1.26s\tremaining: 3.61s\n",
      "259:\tlearn: 0.3775492\ttotal: 1.27s\tremaining: 3.61s\n",
      "260:\tlearn: 0.3773289\ttotal: 1.27s\tremaining: 3.6s\n",
      "261:\tlearn: 0.3771101\ttotal: 1.27s\tremaining: 3.59s\n",
      "262:\tlearn: 0.3769797\ttotal: 1.28s\tremaining: 3.58s\n",
      "263:\tlearn: 0.3768263\ttotal: 1.28s\tremaining: 3.58s\n",
      "264:\tlearn: 0.3767491\ttotal: 1.29s\tremaining: 3.57s\n",
      "265:\tlearn: 0.3766399\ttotal: 1.29s\tremaining: 3.56s\n",
      "266:\tlearn: 0.3765454\ttotal: 1.29s\tremaining: 3.55s\n",
      "267:\tlearn: 0.3764387\ttotal: 1.3s\tremaining: 3.55s\n",
      "268:\tlearn: 0.3763014\ttotal: 1.3s\tremaining: 3.55s\n",
      "269:\tlearn: 0.3761148\ttotal: 1.31s\tremaining: 3.54s\n",
      "270:\tlearn: 0.3758627\ttotal: 1.32s\tremaining: 3.54s\n",
      "271:\tlearn: 0.3757286\ttotal: 1.32s\tremaining: 3.54s\n",
      "272:\tlearn: 0.3755339\ttotal: 1.33s\tremaining: 3.53s\n",
      "273:\tlearn: 0.3754280\ttotal: 1.33s\tremaining: 3.52s\n",
      "274:\tlearn: 0.3752885\ttotal: 1.33s\tremaining: 3.52s\n",
      "275:\tlearn: 0.3751764\ttotal: 1.34s\tremaining: 3.51s\n",
      "276:\tlearn: 0.3749814\ttotal: 1.34s\tremaining: 3.5s\n",
      "277:\tlearn: 0.3748222\ttotal: 1.35s\tremaining: 3.5s\n",
      "278:\tlearn: 0.3747614\ttotal: 1.35s\tremaining: 3.49s\n",
      "279:\tlearn: 0.3745615\ttotal: 1.35s\tremaining: 3.48s\n",
      "280:\tlearn: 0.3744261\ttotal: 1.36s\tremaining: 3.48s\n",
      "281:\tlearn: 0.3743068\ttotal: 1.36s\tremaining: 3.47s\n",
      "282:\tlearn: 0.3742384\ttotal: 1.36s\tremaining: 3.46s\n",
      "283:\tlearn: 0.3741486\ttotal: 1.37s\tremaining: 3.45s\n",
      "284:\tlearn: 0.3739460\ttotal: 1.37s\tremaining: 3.44s\n",
      "285:\tlearn: 0.3737629\ttotal: 1.38s\tremaining: 3.45s\n",
      "286:\tlearn: 0.3736020\ttotal: 1.38s\tremaining: 3.44s\n",
      "287:\tlearn: 0.3735475\ttotal: 1.39s\tremaining: 3.43s\n",
      "288:\tlearn: 0.3734531\ttotal: 1.39s\tremaining: 3.42s\n",
      "289:\tlearn: 0.3732765\ttotal: 1.4s\tremaining: 3.42s\n",
      "290:\tlearn: 0.3732046\ttotal: 1.4s\tremaining: 3.41s\n",
      "291:\tlearn: 0.3729735\ttotal: 1.4s\tremaining: 3.4s\n",
      "292:\tlearn: 0.3728112\ttotal: 1.41s\tremaining: 3.4s\n",
      "293:\tlearn: 0.3727331\ttotal: 1.41s\tremaining: 3.39s\n",
      "294:\tlearn: 0.3727119\ttotal: 1.41s\tremaining: 3.38s\n",
      "295:\tlearn: 0.3725355\ttotal: 1.42s\tremaining: 3.37s\n",
      "296:\tlearn: 0.3723913\ttotal: 1.42s\tremaining: 3.36s\n",
      "297:\tlearn: 0.3721988\ttotal: 1.43s\tremaining: 3.36s\n",
      "298:\tlearn: 0.3721032\ttotal: 1.43s\tremaining: 3.35s\n",
      "299:\tlearn: 0.3719729\ttotal: 1.43s\tremaining: 3.34s\n",
      "300:\tlearn: 0.3718447\ttotal: 1.44s\tremaining: 3.34s\n",
      "301:\tlearn: 0.3717432\ttotal: 1.44s\tremaining: 3.33s\n",
      "302:\tlearn: 0.3716385\ttotal: 1.44s\tremaining: 3.32s\n",
      "303:\tlearn: 0.3715431\ttotal: 1.45s\tremaining: 3.32s\n",
      "304:\tlearn: 0.3714545\ttotal: 1.45s\tremaining: 3.31s\n",
      "305:\tlearn: 0.3712272\ttotal: 1.46s\tremaining: 3.31s\n",
      "306:\tlearn: 0.3711754\ttotal: 1.46s\tremaining: 3.3s\n",
      "307:\tlearn: 0.3710245\ttotal: 1.47s\tremaining: 3.29s\n"
     ]
    },
    {
     "name": "stdout",
     "output_type": "stream",
     "text": [
      "308:\tlearn: 0.3709323\ttotal: 1.47s\tremaining: 3.29s\n",
      "309:\tlearn: 0.3707963\ttotal: 1.48s\tremaining: 3.29s\n",
      "310:\tlearn: 0.3706366\ttotal: 1.48s\tremaining: 3.28s\n",
      "311:\tlearn: 0.3704041\ttotal: 1.49s\tremaining: 3.28s\n",
      "312:\tlearn: 0.3702707\ttotal: 1.49s\tremaining: 3.28s\n",
      "313:\tlearn: 0.3701358\ttotal: 1.5s\tremaining: 3.27s\n",
      "314:\tlearn: 0.3700419\ttotal: 1.5s\tremaining: 3.27s\n",
      "315:\tlearn: 0.3698855\ttotal: 1.51s\tremaining: 3.26s\n",
      "316:\tlearn: 0.3697406\ttotal: 1.51s\tremaining: 3.26s\n",
      "317:\tlearn: 0.3695946\ttotal: 1.51s\tremaining: 3.25s\n",
      "318:\tlearn: 0.3694510\ttotal: 1.52s\tremaining: 3.24s\n",
      "319:\tlearn: 0.3692561\ttotal: 1.52s\tremaining: 3.24s\n",
      "320:\tlearn: 0.3690727\ttotal: 1.53s\tremaining: 3.23s\n",
      "321:\tlearn: 0.3689624\ttotal: 1.53s\tremaining: 3.22s\n",
      "322:\tlearn: 0.3689014\ttotal: 1.53s\tremaining: 3.22s\n",
      "323:\tlearn: 0.3688023\ttotal: 1.54s\tremaining: 3.21s\n",
      "324:\tlearn: 0.3686355\ttotal: 1.54s\tremaining: 3.2s\n",
      "325:\tlearn: 0.3685556\ttotal: 1.54s\tremaining: 3.2s\n",
      "326:\tlearn: 0.3684495\ttotal: 1.55s\tremaining: 3.19s\n",
      "327:\tlearn: 0.3683731\ttotal: 1.55s\tremaining: 3.18s\n",
      "328:\tlearn: 0.3682753\ttotal: 1.56s\tremaining: 3.17s\n",
      "329:\tlearn: 0.3680396\ttotal: 1.56s\tremaining: 3.17s\n",
      "330:\tlearn: 0.3679085\ttotal: 1.56s\tremaining: 3.16s\n",
      "331:\tlearn: 0.3678052\ttotal: 1.57s\tremaining: 3.16s\n",
      "332:\tlearn: 0.3675877\ttotal: 1.57s\tremaining: 3.15s\n",
      "333:\tlearn: 0.3675579\ttotal: 1.57s\tremaining: 3.14s\n",
      "334:\tlearn: 0.3673596\ttotal: 1.58s\tremaining: 3.13s\n",
      "335:\tlearn: 0.3673047\ttotal: 1.58s\tremaining: 3.13s\n",
      "336:\tlearn: 0.3671580\ttotal: 1.59s\tremaining: 3.12s\n",
      "337:\tlearn: 0.3670090\ttotal: 1.59s\tremaining: 3.12s\n",
      "338:\tlearn: 0.3669384\ttotal: 1.59s\tremaining: 3.11s\n",
      "339:\tlearn: 0.3667823\ttotal: 1.6s\tremaining: 3.1s\n",
      "340:\tlearn: 0.3666111\ttotal: 1.6s\tremaining: 3.1s\n",
      "341:\tlearn: 0.3663890\ttotal: 1.6s\tremaining: 3.09s\n",
      "342:\tlearn: 0.3662675\ttotal: 1.61s\tremaining: 3.08s\n",
      "343:\tlearn: 0.3661046\ttotal: 1.61s\tremaining: 3.08s\n",
      "344:\tlearn: 0.3660903\ttotal: 1.61s\tremaining: 3.07s\n",
      "345:\tlearn: 0.3659351\ttotal: 1.62s\tremaining: 3.06s\n",
      "346:\tlearn: 0.3658618\ttotal: 1.62s\tremaining: 3.05s\n",
      "347:\tlearn: 0.3658020\ttotal: 1.63s\tremaining: 3.05s\n",
      "348:\tlearn: 0.3656209\ttotal: 1.63s\tremaining: 3.04s\n",
      "349:\tlearn: 0.3654792\ttotal: 1.63s\tremaining: 3.03s\n",
      "350:\tlearn: 0.3652910\ttotal: 1.64s\tremaining: 3.03s\n",
      "351:\tlearn: 0.3651431\ttotal: 1.64s\tremaining: 3.02s\n",
      "352:\tlearn: 0.3650329\ttotal: 1.65s\tremaining: 3.02s\n",
      "353:\tlearn: 0.3648639\ttotal: 1.65s\tremaining: 3.02s\n",
      "354:\tlearn: 0.3646323\ttotal: 1.66s\tremaining: 3.01s\n",
      "355:\tlearn: 0.3645763\ttotal: 1.66s\tremaining: 3.01s\n",
      "356:\tlearn: 0.3644641\ttotal: 1.67s\tremaining: 3s\n",
      "357:\tlearn: 0.3642433\ttotal: 1.67s\tremaining: 2.99s\n",
      "358:\tlearn: 0.3641971\ttotal: 1.67s\tremaining: 2.99s\n",
      "359:\tlearn: 0.3640688\ttotal: 1.68s\tremaining: 2.98s\n",
      "360:\tlearn: 0.3639632\ttotal: 1.68s\tremaining: 2.98s\n",
      "361:\tlearn: 0.3638945\ttotal: 1.69s\tremaining: 2.97s\n",
      "362:\tlearn: 0.3638252\ttotal: 1.69s\tremaining: 2.96s\n",
      "363:\tlearn: 0.3637605\ttotal: 1.69s\tremaining: 2.96s\n",
      "364:\tlearn: 0.3636653\ttotal: 1.7s\tremaining: 2.95s\n",
      "365:\tlearn: 0.3635092\ttotal: 1.7s\tremaining: 2.95s\n",
      "366:\tlearn: 0.3634874\ttotal: 1.7s\tremaining: 2.94s\n",
      "367:\tlearn: 0.3634493\ttotal: 1.71s\tremaining: 2.93s\n",
      "368:\tlearn: 0.3633273\ttotal: 1.71s\tremaining: 2.93s\n",
      "369:\tlearn: 0.3632164\ttotal: 1.72s\tremaining: 2.92s\n",
      "370:\tlearn: 0.3630390\ttotal: 1.72s\tremaining: 2.91s\n",
      "371:\tlearn: 0.3628759\ttotal: 1.72s\tremaining: 2.91s\n",
      "372:\tlearn: 0.3627437\ttotal: 1.73s\tremaining: 2.9s\n",
      "373:\tlearn: 0.3626858\ttotal: 1.73s\tremaining: 2.9s\n",
      "374:\tlearn: 0.3624376\ttotal: 1.73s\tremaining: 2.89s\n",
      "375:\tlearn: 0.3623586\ttotal: 1.74s\tremaining: 2.88s\n",
      "376:\tlearn: 0.3622220\ttotal: 1.74s\tremaining: 2.88s\n",
      "377:\tlearn: 0.3620552\ttotal: 1.75s\tremaining: 2.87s\n",
      "378:\tlearn: 0.3619388\ttotal: 1.75s\tremaining: 2.87s\n",
      "379:\tlearn: 0.3618060\ttotal: 1.75s\tremaining: 2.86s\n",
      "380:\tlearn: 0.3617284\ttotal: 1.76s\tremaining: 2.85s\n",
      "381:\tlearn: 0.3616045\ttotal: 1.76s\tremaining: 2.85s\n",
      "382:\tlearn: 0.3614146\ttotal: 1.76s\tremaining: 2.84s\n",
      "383:\tlearn: 0.3613175\ttotal: 1.77s\tremaining: 2.83s\n",
      "384:\tlearn: 0.3611490\ttotal: 1.77s\tremaining: 2.83s\n",
      "385:\tlearn: 0.3609653\ttotal: 1.77s\tremaining: 2.82s\n",
      "386:\tlearn: 0.3608548\ttotal: 1.78s\tremaining: 2.82s\n",
      "387:\tlearn: 0.3607783\ttotal: 1.78s\tremaining: 2.81s\n",
      "388:\tlearn: 0.3606515\ttotal: 1.79s\tremaining: 2.81s\n",
      "389:\tlearn: 0.3605812\ttotal: 1.79s\tremaining: 2.8s\n",
      "390:\tlearn: 0.3604452\ttotal: 1.79s\tremaining: 2.79s\n",
      "391:\tlearn: 0.3603080\ttotal: 1.8s\tremaining: 2.79s\n",
      "392:\tlearn: 0.3602502\ttotal: 1.8s\tremaining: 2.78s\n",
      "393:\tlearn: 0.3600807\ttotal: 1.8s\tremaining: 2.78s\n",
      "394:\tlearn: 0.3597782\ttotal: 1.81s\tremaining: 2.77s\n",
      "395:\tlearn: 0.3596881\ttotal: 1.81s\tremaining: 2.77s\n",
      "396:\tlearn: 0.3596116\ttotal: 1.82s\tremaining: 2.76s\n",
      "397:\tlearn: 0.3594701\ttotal: 1.82s\tremaining: 2.76s\n",
      "398:\tlearn: 0.3593230\ttotal: 1.83s\tremaining: 2.75s\n",
      "399:\tlearn: 0.3592501\ttotal: 1.83s\tremaining: 2.75s\n",
      "400:\tlearn: 0.3591343\ttotal: 1.84s\tremaining: 2.75s\n",
      "401:\tlearn: 0.3590499\ttotal: 1.84s\tremaining: 2.74s\n",
      "402:\tlearn: 0.3589281\ttotal: 1.85s\tremaining: 2.74s\n",
      "403:\tlearn: 0.3587650\ttotal: 1.85s\tremaining: 2.73s\n",
      "404:\tlearn: 0.3586352\ttotal: 1.85s\tremaining: 2.73s\n",
      "405:\tlearn: 0.3585013\ttotal: 1.86s\tremaining: 2.72s\n",
      "406:\tlearn: 0.3583766\ttotal: 1.86s\tremaining: 2.71s\n",
      "407:\tlearn: 0.3582928\ttotal: 1.87s\tremaining: 2.71s\n",
      "408:\tlearn: 0.3581481\ttotal: 1.87s\tremaining: 2.7s\n",
      "409:\tlearn: 0.3580206\ttotal: 1.87s\tremaining: 2.7s\n",
      "410:\tlearn: 0.3579096\ttotal: 1.88s\tremaining: 2.69s\n",
      "411:\tlearn: 0.3577417\ttotal: 1.88s\tremaining: 2.69s\n",
      "412:\tlearn: 0.3575003\ttotal: 1.89s\tremaining: 2.68s\n",
      "413:\tlearn: 0.3573805\ttotal: 1.89s\tremaining: 2.67s\n",
      "414:\tlearn: 0.3572666\ttotal: 1.89s\tremaining: 2.67s\n",
      "415:\tlearn: 0.3570636\ttotal: 1.9s\tremaining: 2.66s\n",
      "416:\tlearn: 0.3570120\ttotal: 1.9s\tremaining: 2.66s\n",
      "417:\tlearn: 0.3568529\ttotal: 1.9s\tremaining: 2.65s\n",
      "418:\tlearn: 0.3566465\ttotal: 1.91s\tremaining: 2.65s\n",
      "419:\tlearn: 0.3565722\ttotal: 1.91s\tremaining: 2.64s\n",
      "420:\tlearn: 0.3564868\ttotal: 1.92s\tremaining: 2.63s\n",
      "421:\tlearn: 0.3563436\ttotal: 1.92s\tremaining: 2.63s\n",
      "422:\tlearn: 0.3562240\ttotal: 1.92s\tremaining: 2.62s\n",
      "423:\tlearn: 0.3561096\ttotal: 1.93s\tremaining: 2.62s\n",
      "424:\tlearn: 0.3558932\ttotal: 1.93s\tremaining: 2.61s\n",
      "425:\tlearn: 0.3557887\ttotal: 1.93s\tremaining: 2.61s\n",
      "426:\tlearn: 0.3556946\ttotal: 1.94s\tremaining: 2.6s\n",
      "427:\tlearn: 0.3555708\ttotal: 1.94s\tremaining: 2.6s\n",
      "428:\tlearn: 0.3554822\ttotal: 1.95s\tremaining: 2.59s\n",
      "429:\tlearn: 0.3553353\ttotal: 1.95s\tremaining: 2.58s\n",
      "430:\tlearn: 0.3552651\ttotal: 1.95s\tremaining: 2.58s\n",
      "431:\tlearn: 0.3551469\ttotal: 1.96s\tremaining: 2.57s\n",
      "432:\tlearn: 0.3550512\ttotal: 1.96s\tremaining: 2.57s\n",
      "433:\tlearn: 0.3549816\ttotal: 1.96s\tremaining: 2.56s\n",
      "434:\tlearn: 0.3548905\ttotal: 1.97s\tremaining: 2.56s\n",
      "435:\tlearn: 0.3547462\ttotal: 1.97s\tremaining: 2.55s\n",
      "436:\tlearn: 0.3546266\ttotal: 1.98s\tremaining: 2.54s\n",
      "437:\tlearn: 0.3545483\ttotal: 1.98s\tremaining: 2.54s\n",
      "438:\tlearn: 0.3544331\ttotal: 1.98s\tremaining: 2.53s\n",
      "439:\tlearn: 0.3542905\ttotal: 1.99s\tremaining: 2.53s\n",
      "440:\tlearn: 0.3541654\ttotal: 1.99s\tremaining: 2.53s\n",
      "441:\tlearn: 0.3540217\ttotal: 2s\tremaining: 2.52s\n",
      "442:\tlearn: 0.3539421\ttotal: 2s\tremaining: 2.52s\n",
      "443:\tlearn: 0.3537877\ttotal: 2.01s\tremaining: 2.52s\n",
      "444:\tlearn: 0.3536294\ttotal: 2.01s\tremaining: 2.51s\n",
      "445:\tlearn: 0.3535270\ttotal: 2.02s\tremaining: 2.51s\n",
      "446:\tlearn: 0.3533793\ttotal: 2.02s\tremaining: 2.5s\n",
      "447:\tlearn: 0.3532640\ttotal: 2.03s\tremaining: 2.5s\n",
      "448:\tlearn: 0.3530936\ttotal: 2.03s\tremaining: 2.49s\n",
      "449:\tlearn: 0.3529918\ttotal: 2.03s\tremaining: 2.49s\n",
      "450:\tlearn: 0.3528401\ttotal: 2.04s\tremaining: 2.48s\n",
      "451:\tlearn: 0.3527497\ttotal: 2.04s\tremaining: 2.48s\n",
      "452:\tlearn: 0.3526642\ttotal: 2.04s\tremaining: 2.47s\n",
      "453:\tlearn: 0.3524565\ttotal: 2.05s\tremaining: 2.46s\n",
      "454:\tlearn: 0.3523261\ttotal: 2.05s\tremaining: 2.46s\n",
      "455:\tlearn: 0.3522056\ttotal: 2.06s\tremaining: 2.45s\n",
      "456:\tlearn: 0.3520850\ttotal: 2.06s\tremaining: 2.45s\n",
      "457:\tlearn: 0.3519726\ttotal: 2.06s\tremaining: 2.44s\n",
      "458:\tlearn: 0.3518544\ttotal: 2.07s\tremaining: 2.44s\n",
      "459:\tlearn: 0.3516593\ttotal: 2.07s\tremaining: 2.43s\n",
      "460:\tlearn: 0.3515372\ttotal: 2.08s\tremaining: 2.43s\n",
      "461:\tlearn: 0.3514251\ttotal: 2.08s\tremaining: 2.42s\n",
      "462:\tlearn: 0.3512752\ttotal: 2.08s\tremaining: 2.42s\n",
      "463:\tlearn: 0.3511336\ttotal: 2.09s\tremaining: 2.41s\n",
      "464:\tlearn: 0.3510444\ttotal: 2.09s\tremaining: 2.4s\n",
      "465:\tlearn: 0.3509322\ttotal: 2.09s\tremaining: 2.4s\n",
      "466:\tlearn: 0.3507756\ttotal: 2.1s\tremaining: 2.39s\n",
      "467:\tlearn: 0.3506583\ttotal: 2.1s\tremaining: 2.39s\n",
      "468:\tlearn: 0.3505123\ttotal: 2.1s\tremaining: 2.38s\n",
      "469:\tlearn: 0.3503366\ttotal: 2.11s\tremaining: 2.38s\n",
      "470:\tlearn: 0.3502349\ttotal: 2.11s\tremaining: 2.37s\n",
      "471:\tlearn: 0.3501445\ttotal: 2.12s\tremaining: 2.37s\n",
      "472:\tlearn: 0.3500209\ttotal: 2.12s\tremaining: 2.36s\n",
      "473:\tlearn: 0.3498866\ttotal: 2.12s\tremaining: 2.36s\n",
      "474:\tlearn: 0.3496754\ttotal: 2.13s\tremaining: 2.35s\n",
      "475:\tlearn: 0.3495882\ttotal: 2.13s\tremaining: 2.35s\n",
      "476:\tlearn: 0.3494754\ttotal: 2.13s\tremaining: 2.34s\n",
      "477:\tlearn: 0.3493679\ttotal: 2.14s\tremaining: 2.34s\n",
      "478:\tlearn: 0.3492349\ttotal: 2.14s\tremaining: 2.33s\n",
      "479:\tlearn: 0.3491538\ttotal: 2.15s\tremaining: 2.33s\n",
      "480:\tlearn: 0.3490499\ttotal: 2.15s\tremaining: 2.32s\n",
      "481:\tlearn: 0.3489089\ttotal: 2.15s\tremaining: 2.31s\n",
      "482:\tlearn: 0.3488299\ttotal: 2.16s\tremaining: 2.31s\n"
     ]
    },
    {
     "name": "stdout",
     "output_type": "stream",
     "text": [
      "483:\tlearn: 0.3486926\ttotal: 2.16s\tremaining: 2.31s\n",
      "484:\tlearn: 0.3485901\ttotal: 2.17s\tremaining: 2.31s\n",
      "485:\tlearn: 0.3484907\ttotal: 2.18s\tremaining: 2.3s\n",
      "486:\tlearn: 0.3483688\ttotal: 2.18s\tremaining: 2.3s\n",
      "487:\tlearn: 0.3482964\ttotal: 2.19s\tremaining: 2.29s\n",
      "488:\tlearn: 0.3481855\ttotal: 2.19s\tremaining: 2.29s\n",
      "489:\tlearn: 0.3480316\ttotal: 2.19s\tremaining: 2.28s\n",
      "490:\tlearn: 0.3479264\ttotal: 2.2s\tremaining: 2.28s\n",
      "491:\tlearn: 0.3478039\ttotal: 2.2s\tremaining: 2.27s\n",
      "492:\tlearn: 0.3476829\ttotal: 2.21s\tremaining: 2.27s\n",
      "493:\tlearn: 0.3475677\ttotal: 2.21s\tremaining: 2.26s\n",
      "494:\tlearn: 0.3474048\ttotal: 2.21s\tremaining: 2.26s\n",
      "495:\tlearn: 0.3473313\ttotal: 2.22s\tremaining: 2.25s\n",
      "496:\tlearn: 0.3472138\ttotal: 2.22s\tremaining: 2.25s\n",
      "497:\tlearn: 0.3471101\ttotal: 2.23s\tremaining: 2.24s\n",
      "498:\tlearn: 0.3469492\ttotal: 2.23s\tremaining: 2.24s\n",
      "499:\tlearn: 0.3468008\ttotal: 2.23s\tremaining: 2.23s\n",
      "500:\tlearn: 0.3466932\ttotal: 2.24s\tremaining: 2.23s\n",
      "501:\tlearn: 0.3466001\ttotal: 2.24s\tremaining: 2.22s\n",
      "502:\tlearn: 0.3464602\ttotal: 2.24s\tremaining: 2.22s\n",
      "503:\tlearn: 0.3463969\ttotal: 2.25s\tremaining: 2.21s\n",
      "504:\tlearn: 0.3462952\ttotal: 2.25s\tremaining: 2.21s\n",
      "505:\tlearn: 0.3461536\ttotal: 2.25s\tremaining: 2.2s\n",
      "506:\tlearn: 0.3460107\ttotal: 2.26s\tremaining: 2.2s\n",
      "507:\tlearn: 0.3459320\ttotal: 2.26s\tremaining: 2.19s\n",
      "508:\tlearn: 0.3458044\ttotal: 2.27s\tremaining: 2.19s\n",
      "509:\tlearn: 0.3456819\ttotal: 2.27s\tremaining: 2.18s\n",
      "510:\tlearn: 0.3455254\ttotal: 2.27s\tremaining: 2.18s\n",
      "511:\tlearn: 0.3454274\ttotal: 2.28s\tremaining: 2.17s\n",
      "512:\tlearn: 0.3453043\ttotal: 2.28s\tremaining: 2.17s\n",
      "513:\tlearn: 0.3451372\ttotal: 2.29s\tremaining: 2.16s\n",
      "514:\tlearn: 0.3449971\ttotal: 2.29s\tremaining: 2.16s\n",
      "515:\tlearn: 0.3449250\ttotal: 2.29s\tremaining: 2.15s\n",
      "516:\tlearn: 0.3447856\ttotal: 2.3s\tremaining: 2.15s\n",
      "517:\tlearn: 0.3446202\ttotal: 2.31s\tremaining: 2.15s\n",
      "518:\tlearn: 0.3445269\ttotal: 2.31s\tremaining: 2.14s\n",
      "519:\tlearn: 0.3444063\ttotal: 2.31s\tremaining: 2.14s\n",
      "520:\tlearn: 0.3442335\ttotal: 2.32s\tremaining: 2.13s\n",
      "521:\tlearn: 0.3440750\ttotal: 2.32s\tremaining: 2.13s\n",
      "522:\tlearn: 0.3439823\ttotal: 2.33s\tremaining: 2.12s\n",
      "523:\tlearn: 0.3438871\ttotal: 2.33s\tremaining: 2.12s\n",
      "524:\tlearn: 0.3437813\ttotal: 2.34s\tremaining: 2.11s\n",
      "525:\tlearn: 0.3436731\ttotal: 2.34s\tremaining: 2.11s\n",
      "526:\tlearn: 0.3435081\ttotal: 2.35s\tremaining: 2.11s\n",
      "527:\tlearn: 0.3434188\ttotal: 2.35s\tremaining: 2.1s\n",
      "528:\tlearn: 0.3433576\ttotal: 2.36s\tremaining: 2.1s\n",
      "529:\tlearn: 0.3431705\ttotal: 2.36s\tremaining: 2.09s\n",
      "530:\tlearn: 0.3430709\ttotal: 2.37s\tremaining: 2.09s\n",
      "531:\tlearn: 0.3429701\ttotal: 2.37s\tremaining: 2.09s\n",
      "532:\tlearn: 0.3428231\ttotal: 2.38s\tremaining: 2.08s\n",
      "533:\tlearn: 0.3427024\ttotal: 2.38s\tremaining: 2.08s\n",
      "534:\tlearn: 0.3426061\ttotal: 2.38s\tremaining: 2.07s\n",
      "535:\tlearn: 0.3425043\ttotal: 2.39s\tremaining: 2.07s\n",
      "536:\tlearn: 0.3424283\ttotal: 2.39s\tremaining: 2.06s\n",
      "537:\tlearn: 0.3423024\ttotal: 2.4s\tremaining: 2.06s\n",
      "538:\tlearn: 0.3422100\ttotal: 2.4s\tremaining: 2.05s\n",
      "539:\tlearn: 0.3420909\ttotal: 2.4s\tremaining: 2.05s\n",
      "540:\tlearn: 0.3420326\ttotal: 2.41s\tremaining: 2.04s\n",
      "541:\tlearn: 0.3418806\ttotal: 2.41s\tremaining: 2.04s\n",
      "542:\tlearn: 0.3417957\ttotal: 2.42s\tremaining: 2.03s\n",
      "543:\tlearn: 0.3417000\ttotal: 2.42s\tremaining: 2.03s\n",
      "544:\tlearn: 0.3415949\ttotal: 2.42s\tremaining: 2.02s\n",
      "545:\tlearn: 0.3414911\ttotal: 2.43s\tremaining: 2.02s\n",
      "546:\tlearn: 0.3413478\ttotal: 2.43s\tremaining: 2.01s\n",
      "547:\tlearn: 0.3411988\ttotal: 2.43s\tremaining: 2.01s\n",
      "548:\tlearn: 0.3410661\ttotal: 2.44s\tremaining: 2s\n",
      "549:\tlearn: 0.3409511\ttotal: 2.44s\tremaining: 2s\n",
      "550:\tlearn: 0.3407745\ttotal: 2.44s\tremaining: 1.99s\n",
      "551:\tlearn: 0.3406975\ttotal: 2.45s\tremaining: 1.99s\n",
      "552:\tlearn: 0.3405990\ttotal: 2.45s\tremaining: 1.98s\n",
      "553:\tlearn: 0.3405055\ttotal: 2.46s\tremaining: 1.98s\n",
      "554:\tlearn: 0.3403379\ttotal: 2.46s\tremaining: 1.97s\n",
      "555:\tlearn: 0.3402392\ttotal: 2.46s\tremaining: 1.97s\n",
      "556:\tlearn: 0.3401283\ttotal: 2.47s\tremaining: 1.96s\n",
      "557:\tlearn: 0.3400435\ttotal: 2.47s\tremaining: 1.96s\n",
      "558:\tlearn: 0.3398956\ttotal: 2.48s\tremaining: 1.95s\n",
      "559:\tlearn: 0.3397748\ttotal: 2.48s\tremaining: 1.95s\n",
      "560:\tlearn: 0.3396335\ttotal: 2.48s\tremaining: 1.94s\n",
      "561:\tlearn: 0.3395051\ttotal: 2.49s\tremaining: 1.94s\n",
      "562:\tlearn: 0.3394188\ttotal: 2.49s\tremaining: 1.93s\n",
      "563:\tlearn: 0.3393203\ttotal: 2.49s\tremaining: 1.93s\n",
      "564:\tlearn: 0.3392093\ttotal: 2.5s\tremaining: 1.92s\n",
      "565:\tlearn: 0.3390634\ttotal: 2.5s\tremaining: 1.92s\n",
      "566:\tlearn: 0.3389474\ttotal: 2.51s\tremaining: 1.91s\n",
      "567:\tlearn: 0.3388064\ttotal: 2.51s\tremaining: 1.91s\n",
      "568:\tlearn: 0.3387056\ttotal: 2.52s\tremaining: 1.91s\n",
      "569:\tlearn: 0.3385997\ttotal: 2.52s\tremaining: 1.9s\n",
      "570:\tlearn: 0.3384934\ttotal: 2.53s\tremaining: 1.9s\n",
      "571:\tlearn: 0.3384049\ttotal: 2.53s\tremaining: 1.89s\n",
      "572:\tlearn: 0.3383326\ttotal: 2.54s\tremaining: 1.89s\n",
      "573:\tlearn: 0.3382136\ttotal: 2.54s\tremaining: 1.88s\n",
      "574:\tlearn: 0.3380654\ttotal: 2.54s\tremaining: 1.88s\n",
      "575:\tlearn: 0.3378977\ttotal: 2.55s\tremaining: 1.87s\n",
      "576:\tlearn: 0.3378089\ttotal: 2.55s\tremaining: 1.87s\n",
      "577:\tlearn: 0.3376750\ttotal: 2.55s\tremaining: 1.86s\n",
      "578:\tlearn: 0.3375807\ttotal: 2.56s\tremaining: 1.86s\n",
      "579:\tlearn: 0.3374533\ttotal: 2.56s\tremaining: 1.85s\n",
      "580:\tlearn: 0.3373450\ttotal: 2.56s\tremaining: 1.85s\n",
      "581:\tlearn: 0.3372229\ttotal: 2.57s\tremaining: 1.84s\n",
      "582:\tlearn: 0.3371526\ttotal: 2.57s\tremaining: 1.84s\n",
      "583:\tlearn: 0.3370321\ttotal: 2.58s\tremaining: 1.83s\n",
      "584:\tlearn: 0.3369407\ttotal: 2.58s\tremaining: 1.83s\n",
      "585:\tlearn: 0.3367973\ttotal: 2.58s\tremaining: 1.83s\n",
      "586:\tlearn: 0.3366815\ttotal: 2.59s\tremaining: 1.82s\n",
      "587:\tlearn: 0.3365675\ttotal: 2.59s\tremaining: 1.82s\n",
      "588:\tlearn: 0.3364361\ttotal: 2.6s\tremaining: 1.81s\n",
      "589:\tlearn: 0.3363386\ttotal: 2.6s\tremaining: 1.81s\n",
      "590:\tlearn: 0.3362671\ttotal: 2.6s\tremaining: 1.8s\n",
      "591:\tlearn: 0.3361568\ttotal: 2.61s\tremaining: 1.8s\n",
      "592:\tlearn: 0.3360393\ttotal: 2.61s\tremaining: 1.79s\n",
      "593:\tlearn: 0.3359510\ttotal: 2.62s\tremaining: 1.79s\n",
      "594:\tlearn: 0.3358543\ttotal: 2.62s\tremaining: 1.78s\n",
      "595:\tlearn: 0.3357653\ttotal: 2.62s\tremaining: 1.78s\n",
      "596:\tlearn: 0.3357118\ttotal: 2.63s\tremaining: 1.77s\n",
      "597:\tlearn: 0.3356067\ttotal: 2.63s\tremaining: 1.77s\n",
      "598:\tlearn: 0.3354732\ttotal: 2.63s\tremaining: 1.76s\n",
      "599:\tlearn: 0.3353578\ttotal: 2.64s\tremaining: 1.76s\n",
      "600:\tlearn: 0.3352357\ttotal: 2.64s\tremaining: 1.75s\n",
      "601:\tlearn: 0.3351855\ttotal: 2.65s\tremaining: 1.75s\n",
      "602:\tlearn: 0.3350864\ttotal: 2.65s\tremaining: 1.74s\n",
      "603:\tlearn: 0.3349594\ttotal: 2.65s\tremaining: 1.74s\n",
      "604:\tlearn: 0.3348391\ttotal: 2.66s\tremaining: 1.73s\n",
      "605:\tlearn: 0.3347442\ttotal: 2.66s\tremaining: 1.73s\n",
      "606:\tlearn: 0.3346679\ttotal: 2.66s\tremaining: 1.72s\n",
      "607:\tlearn: 0.3345377\ttotal: 2.67s\tremaining: 1.72s\n",
      "608:\tlearn: 0.3344732\ttotal: 2.67s\tremaining: 1.72s\n",
      "609:\tlearn: 0.3343461\ttotal: 2.67s\tremaining: 1.71s\n",
      "610:\tlearn: 0.3342714\ttotal: 2.68s\tremaining: 1.71s\n",
      "611:\tlearn: 0.3341462\ttotal: 2.69s\tremaining: 1.7s\n",
      "612:\tlearn: 0.3340638\ttotal: 2.69s\tremaining: 1.7s\n",
      "613:\tlearn: 0.3339763\ttotal: 2.69s\tremaining: 1.69s\n",
      "614:\tlearn: 0.3338896\ttotal: 2.7s\tremaining: 1.69s\n",
      "615:\tlearn: 0.3337508\ttotal: 2.71s\tremaining: 1.69s\n",
      "616:\tlearn: 0.3335987\ttotal: 2.71s\tremaining: 1.68s\n",
      "617:\tlearn: 0.3335279\ttotal: 2.71s\tremaining: 1.68s\n",
      "618:\tlearn: 0.3333991\ttotal: 2.72s\tremaining: 1.67s\n",
      "619:\tlearn: 0.3332908\ttotal: 2.72s\tremaining: 1.67s\n",
      "620:\tlearn: 0.3331813\ttotal: 2.73s\tremaining: 1.66s\n",
      "621:\tlearn: 0.3330740\ttotal: 2.73s\tremaining: 1.66s\n",
      "622:\tlearn: 0.3329321\ttotal: 2.73s\tremaining: 1.66s\n",
      "623:\tlearn: 0.3328200\ttotal: 2.74s\tremaining: 1.65s\n",
      "624:\tlearn: 0.3327319\ttotal: 2.74s\tremaining: 1.65s\n",
      "625:\tlearn: 0.3326495\ttotal: 2.75s\tremaining: 1.64s\n",
      "626:\tlearn: 0.3324711\ttotal: 2.75s\tremaining: 1.64s\n",
      "627:\tlearn: 0.3323808\ttotal: 2.75s\tremaining: 1.63s\n",
      "628:\tlearn: 0.3322199\ttotal: 2.76s\tremaining: 1.63s\n",
      "629:\tlearn: 0.3320242\ttotal: 2.76s\tremaining: 1.62s\n",
      "630:\tlearn: 0.3319133\ttotal: 2.77s\tremaining: 1.62s\n",
      "631:\tlearn: 0.3317591\ttotal: 2.77s\tremaining: 1.61s\n",
      "632:\tlearn: 0.3316677\ttotal: 2.77s\tremaining: 1.61s\n",
      "633:\tlearn: 0.3315554\ttotal: 2.78s\tremaining: 1.6s\n",
      "634:\tlearn: 0.3314829\ttotal: 2.78s\tremaining: 1.6s\n",
      "635:\tlearn: 0.3313224\ttotal: 2.79s\tremaining: 1.59s\n",
      "636:\tlearn: 0.3312024\ttotal: 2.79s\tremaining: 1.59s\n",
      "637:\tlearn: 0.3310575\ttotal: 2.79s\tremaining: 1.58s\n",
      "638:\tlearn: 0.3308962\ttotal: 2.8s\tremaining: 1.58s\n",
      "639:\tlearn: 0.3308072\ttotal: 2.8s\tremaining: 1.57s\n",
      "640:\tlearn: 0.3306784\ttotal: 2.81s\tremaining: 1.57s\n",
      "641:\tlearn: 0.3306209\ttotal: 2.81s\tremaining: 1.57s\n",
      "642:\tlearn: 0.3304862\ttotal: 2.81s\tremaining: 1.56s\n",
      "643:\tlearn: 0.3303608\ttotal: 2.82s\tremaining: 1.56s\n",
      "644:\tlearn: 0.3302074\ttotal: 2.82s\tremaining: 1.55s\n",
      "645:\tlearn: 0.3300640\ttotal: 2.82s\tremaining: 1.55s\n",
      "646:\tlearn: 0.3300149\ttotal: 2.83s\tremaining: 1.54s\n",
      "647:\tlearn: 0.3298994\ttotal: 2.83s\tremaining: 1.54s\n",
      "648:\tlearn: 0.3298217\ttotal: 2.83s\tremaining: 1.53s\n",
      "649:\tlearn: 0.3297295\ttotal: 2.84s\tremaining: 1.53s\n",
      "650:\tlearn: 0.3296400\ttotal: 2.84s\tremaining: 1.52s\n",
      "651:\tlearn: 0.3295883\ttotal: 2.85s\tremaining: 1.52s\n"
     ]
    },
    {
     "name": "stdout",
     "output_type": "stream",
     "text": [
      "652:\tlearn: 0.3294367\ttotal: 2.85s\tremaining: 1.51s\n",
      "653:\tlearn: 0.3293526\ttotal: 2.86s\tremaining: 1.51s\n",
      "654:\tlearn: 0.3291914\ttotal: 2.87s\tremaining: 1.51s\n",
      "655:\tlearn: 0.3291142\ttotal: 2.87s\tremaining: 1.5s\n",
      "656:\tlearn: 0.3289788\ttotal: 2.88s\tremaining: 1.5s\n",
      "657:\tlearn: 0.3288249\ttotal: 2.88s\tremaining: 1.5s\n",
      "658:\tlearn: 0.3287432\ttotal: 2.88s\tremaining: 1.49s\n",
      "659:\tlearn: 0.3286245\ttotal: 2.89s\tremaining: 1.49s\n",
      "660:\tlearn: 0.3285272\ttotal: 2.89s\tremaining: 1.48s\n",
      "661:\tlearn: 0.3283949\ttotal: 2.9s\tremaining: 1.48s\n",
      "662:\tlearn: 0.3282091\ttotal: 2.9s\tremaining: 1.47s\n",
      "663:\tlearn: 0.3280734\ttotal: 2.9s\tremaining: 1.47s\n",
      "664:\tlearn: 0.3279635\ttotal: 2.91s\tremaining: 1.46s\n",
      "665:\tlearn: 0.3279188\ttotal: 2.91s\tremaining: 1.46s\n",
      "666:\tlearn: 0.3277972\ttotal: 2.92s\tremaining: 1.46s\n",
      "667:\tlearn: 0.3277276\ttotal: 2.92s\tremaining: 1.45s\n",
      "668:\tlearn: 0.3275909\ttotal: 2.92s\tremaining: 1.45s\n",
      "669:\tlearn: 0.3274965\ttotal: 2.93s\tremaining: 1.44s\n",
      "670:\tlearn: 0.3274433\ttotal: 2.93s\tremaining: 1.44s\n",
      "671:\tlearn: 0.3273677\ttotal: 2.94s\tremaining: 1.43s\n",
      "672:\tlearn: 0.3272466\ttotal: 2.94s\tremaining: 1.43s\n",
      "673:\tlearn: 0.3271521\ttotal: 2.94s\tremaining: 1.42s\n",
      "674:\tlearn: 0.3270699\ttotal: 2.95s\tremaining: 1.42s\n",
      "675:\tlearn: 0.3270095\ttotal: 2.95s\tremaining: 1.41s\n",
      "676:\tlearn: 0.3269436\ttotal: 2.95s\tremaining: 1.41s\n",
      "677:\tlearn: 0.3268440\ttotal: 2.96s\tremaining: 1.4s\n",
      "678:\tlearn: 0.3266955\ttotal: 2.96s\tremaining: 1.4s\n",
      "679:\tlearn: 0.3265941\ttotal: 2.96s\tremaining: 1.4s\n",
      "680:\tlearn: 0.3265365\ttotal: 2.97s\tremaining: 1.39s\n",
      "681:\tlearn: 0.3264788\ttotal: 2.97s\tremaining: 1.39s\n",
      "682:\tlearn: 0.3263899\ttotal: 2.98s\tremaining: 1.38s\n",
      "683:\tlearn: 0.3262681\ttotal: 2.98s\tremaining: 1.38s\n",
      "684:\tlearn: 0.3261565\ttotal: 2.98s\tremaining: 1.37s\n",
      "685:\tlearn: 0.3260592\ttotal: 2.99s\tremaining: 1.37s\n",
      "686:\tlearn: 0.3259827\ttotal: 2.99s\tremaining: 1.36s\n",
      "687:\tlearn: 0.3258774\ttotal: 3s\tremaining: 1.36s\n",
      "688:\tlearn: 0.3257907\ttotal: 3s\tremaining: 1.35s\n",
      "689:\tlearn: 0.3257040\ttotal: 3s\tremaining: 1.35s\n",
      "690:\tlearn: 0.3256007\ttotal: 3.01s\tremaining: 1.34s\n",
      "691:\tlearn: 0.3255187\ttotal: 3.01s\tremaining: 1.34s\n",
      "692:\tlearn: 0.3253796\ttotal: 3.01s\tremaining: 1.33s\n",
      "693:\tlearn: 0.3252861\ttotal: 3.02s\tremaining: 1.33s\n",
      "694:\tlearn: 0.3251540\ttotal: 3.02s\tremaining: 1.33s\n",
      "695:\tlearn: 0.3250566\ttotal: 3.03s\tremaining: 1.32s\n",
      "696:\tlearn: 0.3249389\ttotal: 3.03s\tremaining: 1.32s\n",
      "697:\tlearn: 0.3248322\ttotal: 3.04s\tremaining: 1.31s\n",
      "698:\tlearn: 0.3247520\ttotal: 3.04s\tremaining: 1.31s\n",
      "699:\tlearn: 0.3246685\ttotal: 3.05s\tremaining: 1.31s\n",
      "700:\tlearn: 0.3245165\ttotal: 3.05s\tremaining: 1.3s\n",
      "701:\tlearn: 0.3244329\ttotal: 3.06s\tremaining: 1.3s\n",
      "702:\tlearn: 0.3243255\ttotal: 3.06s\tremaining: 1.29s\n",
      "703:\tlearn: 0.3241362\ttotal: 3.06s\tremaining: 1.29s\n",
      "704:\tlearn: 0.3240875\ttotal: 3.07s\tremaining: 1.28s\n",
      "705:\tlearn: 0.3239920\ttotal: 3.07s\tremaining: 1.28s\n",
      "706:\tlearn: 0.3238844\ttotal: 3.08s\tremaining: 1.27s\n",
      "707:\tlearn: 0.3237223\ttotal: 3.08s\tremaining: 1.27s\n",
      "708:\tlearn: 0.3236167\ttotal: 3.08s\tremaining: 1.26s\n",
      "709:\tlearn: 0.3235101\ttotal: 3.09s\tremaining: 1.26s\n",
      "710:\tlearn: 0.3233991\ttotal: 3.09s\tremaining: 1.26s\n",
      "711:\tlearn: 0.3233019\ttotal: 3.09s\tremaining: 1.25s\n",
      "712:\tlearn: 0.3232027\ttotal: 3.1s\tremaining: 1.25s\n",
      "713:\tlearn: 0.3230595\ttotal: 3.1s\tremaining: 1.24s\n",
      "714:\tlearn: 0.3229519\ttotal: 3.11s\tremaining: 1.24s\n",
      "715:\tlearn: 0.3228555\ttotal: 3.11s\tremaining: 1.23s\n",
      "716:\tlearn: 0.3227527\ttotal: 3.11s\tremaining: 1.23s\n",
      "717:\tlearn: 0.3226430\ttotal: 3.12s\tremaining: 1.22s\n",
      "718:\tlearn: 0.3225725\ttotal: 3.12s\tremaining: 1.22s\n",
      "719:\tlearn: 0.3224132\ttotal: 3.12s\tremaining: 1.22s\n",
      "720:\tlearn: 0.3223305\ttotal: 3.13s\tremaining: 1.21s\n",
      "721:\tlearn: 0.3222476\ttotal: 3.13s\tremaining: 1.21s\n",
      "722:\tlearn: 0.3221951\ttotal: 3.14s\tremaining: 1.2s\n",
      "723:\tlearn: 0.3220739\ttotal: 3.14s\tremaining: 1.2s\n",
      "724:\tlearn: 0.3219355\ttotal: 3.14s\tremaining: 1.19s\n",
      "725:\tlearn: 0.3218138\ttotal: 3.15s\tremaining: 1.19s\n",
      "726:\tlearn: 0.3217522\ttotal: 3.15s\tremaining: 1.18s\n",
      "727:\tlearn: 0.3216382\ttotal: 3.15s\tremaining: 1.18s\n",
      "728:\tlearn: 0.3215905\ttotal: 3.16s\tremaining: 1.17s\n",
      "729:\tlearn: 0.3214224\ttotal: 3.16s\tremaining: 1.17s\n",
      "730:\tlearn: 0.3213679\ttotal: 3.17s\tremaining: 1.17s\n",
      "731:\tlearn: 0.3212587\ttotal: 3.17s\tremaining: 1.16s\n",
      "732:\tlearn: 0.3210751\ttotal: 3.17s\tremaining: 1.16s\n",
      "733:\tlearn: 0.3209636\ttotal: 3.18s\tremaining: 1.15s\n",
      "734:\tlearn: 0.3208625\ttotal: 3.18s\tremaining: 1.15s\n",
      "735:\tlearn: 0.3208193\ttotal: 3.19s\tremaining: 1.14s\n",
      "736:\tlearn: 0.3207123\ttotal: 3.19s\tremaining: 1.14s\n",
      "737:\tlearn: 0.3205299\ttotal: 3.19s\tremaining: 1.13s\n",
      "738:\tlearn: 0.3203761\ttotal: 3.2s\tremaining: 1.13s\n",
      "739:\tlearn: 0.3202356\ttotal: 3.2s\tremaining: 1.12s\n",
      "740:\tlearn: 0.3201765\ttotal: 3.21s\tremaining: 1.12s\n",
      "741:\tlearn: 0.3200821\ttotal: 3.21s\tremaining: 1.12s\n",
      "742:\tlearn: 0.3199589\ttotal: 3.22s\tremaining: 1.11s\n",
      "743:\tlearn: 0.3198756\ttotal: 3.22s\tremaining: 1.11s\n",
      "744:\tlearn: 0.3197758\ttotal: 3.23s\tremaining: 1.1s\n",
      "745:\tlearn: 0.3197307\ttotal: 3.23s\tremaining: 1.1s\n",
      "746:\tlearn: 0.3196649\ttotal: 3.23s\tremaining: 1.09s\n",
      "747:\tlearn: 0.3195663\ttotal: 3.24s\tremaining: 1.09s\n",
      "748:\tlearn: 0.3194735\ttotal: 3.24s\tremaining: 1.09s\n",
      "749:\tlearn: 0.3193924\ttotal: 3.25s\tremaining: 1.08s\n",
      "750:\tlearn: 0.3192676\ttotal: 3.25s\tremaining: 1.08s\n",
      "751:\tlearn: 0.3191951\ttotal: 3.25s\tremaining: 1.07s\n",
      "752:\tlearn: 0.3190895\ttotal: 3.26s\tremaining: 1.07s\n",
      "753:\tlearn: 0.3189967\ttotal: 3.26s\tremaining: 1.06s\n",
      "754:\tlearn: 0.3188740\ttotal: 3.27s\tremaining: 1.06s\n",
      "755:\tlearn: 0.3187736\ttotal: 3.27s\tremaining: 1.05s\n",
      "756:\tlearn: 0.3187166\ttotal: 3.27s\tremaining: 1.05s\n",
      "757:\tlearn: 0.3186149\ttotal: 3.28s\tremaining: 1.05s\n",
      "758:\tlearn: 0.3185030\ttotal: 3.28s\tremaining: 1.04s\n",
      "759:\tlearn: 0.3183761\ttotal: 3.29s\tremaining: 1.04s\n",
      "760:\tlearn: 0.3182596\ttotal: 3.29s\tremaining: 1.03s\n",
      "761:\tlearn: 0.3181896\ttotal: 3.3s\tremaining: 1.03s\n",
      "762:\tlearn: 0.3180820\ttotal: 3.3s\tremaining: 1.02s\n",
      "763:\tlearn: 0.3179424\ttotal: 3.3s\tremaining: 1.02s\n",
      "764:\tlearn: 0.3178526\ttotal: 3.31s\tremaining: 1.02s\n",
      "765:\tlearn: 0.3177444\ttotal: 3.31s\tremaining: 1.01s\n",
      "766:\tlearn: 0.3176408\ttotal: 3.32s\tremaining: 1.01s\n",
      "767:\tlearn: 0.3175333\ttotal: 3.32s\tremaining: 1s\n",
      "768:\tlearn: 0.3174317\ttotal: 3.32s\tremaining: 998ms\n",
      "769:\tlearn: 0.3173475\ttotal: 3.33s\tremaining: 994ms\n",
      "770:\tlearn: 0.3173039\ttotal: 3.33s\tremaining: 989ms\n",
      "771:\tlearn: 0.3172654\ttotal: 3.33s\tremaining: 985ms\n",
      "772:\tlearn: 0.3172005\ttotal: 3.34s\tremaining: 981ms\n",
      "773:\tlearn: 0.3171614\ttotal: 3.34s\tremaining: 976ms\n",
      "774:\tlearn: 0.3170906\ttotal: 3.35s\tremaining: 972ms\n",
      "775:\tlearn: 0.3170390\ttotal: 3.35s\tremaining: 967ms\n",
      "776:\tlearn: 0.3169245\ttotal: 3.35s\tremaining: 963ms\n",
      "777:\tlearn: 0.3168102\ttotal: 3.36s\tremaining: 958ms\n",
      "778:\tlearn: 0.3167245\ttotal: 3.36s\tremaining: 954ms\n",
      "779:\tlearn: 0.3165498\ttotal: 3.37s\tremaining: 949ms\n",
      "780:\tlearn: 0.3164517\ttotal: 3.37s\tremaining: 945ms\n",
      "781:\tlearn: 0.3163479\ttotal: 3.38s\tremaining: 941ms\n",
      "782:\tlearn: 0.3162923\ttotal: 3.38s\tremaining: 937ms\n",
      "783:\tlearn: 0.3162004\ttotal: 3.39s\tremaining: 934ms\n",
      "784:\tlearn: 0.3161379\ttotal: 3.39s\tremaining: 929ms\n",
      "785:\tlearn: 0.3160262\ttotal: 3.4s\tremaining: 925ms\n",
      "786:\tlearn: 0.3158724\ttotal: 3.4s\tremaining: 921ms\n",
      "787:\tlearn: 0.3157226\ttotal: 3.4s\tremaining: 916ms\n",
      "788:\tlearn: 0.3156026\ttotal: 3.41s\tremaining: 912ms\n",
      "789:\tlearn: 0.3154935\ttotal: 3.42s\tremaining: 908ms\n",
      "790:\tlearn: 0.3154429\ttotal: 3.42s\tremaining: 903ms\n",
      "791:\tlearn: 0.3153499\ttotal: 3.42s\tremaining: 899ms\n",
      "792:\tlearn: 0.3152677\ttotal: 3.43s\tremaining: 895ms\n",
      "793:\tlearn: 0.3151436\ttotal: 3.43s\tremaining: 890ms\n",
      "794:\tlearn: 0.3150359\ttotal: 3.43s\tremaining: 886ms\n",
      "795:\tlearn: 0.3149347\ttotal: 3.44s\tremaining: 881ms\n",
      "796:\tlearn: 0.3148090\ttotal: 3.44s\tremaining: 877ms\n",
      "797:\tlearn: 0.3147380\ttotal: 3.45s\tremaining: 873ms\n",
      "798:\tlearn: 0.3146747\ttotal: 3.45s\tremaining: 868ms\n",
      "799:\tlearn: 0.3146323\ttotal: 3.46s\tremaining: 864ms\n",
      "800:\tlearn: 0.3144644\ttotal: 3.46s\tremaining: 859ms\n",
      "801:\tlearn: 0.3143949\ttotal: 3.46s\tremaining: 855ms\n",
      "802:\tlearn: 0.3142223\ttotal: 3.47s\tremaining: 851ms\n",
      "803:\tlearn: 0.3141016\ttotal: 3.47s\tremaining: 846ms\n",
      "804:\tlearn: 0.3140293\ttotal: 3.47s\tremaining: 842ms\n",
      "805:\tlearn: 0.3139150\ttotal: 3.48s\tremaining: 837ms\n",
      "806:\tlearn: 0.3137821\ttotal: 3.48s\tremaining: 833ms\n",
      "807:\tlearn: 0.3136821\ttotal: 3.48s\tremaining: 828ms\n",
      "808:\tlearn: 0.3135236\ttotal: 3.49s\tremaining: 824ms\n",
      "809:\tlearn: 0.3134500\ttotal: 3.49s\tremaining: 820ms\n",
      "810:\tlearn: 0.3133583\ttotal: 3.5s\tremaining: 815ms\n",
      "811:\tlearn: 0.3132924\ttotal: 3.5s\tremaining: 811ms\n",
      "812:\tlearn: 0.3132465\ttotal: 3.51s\tremaining: 806ms\n",
      "813:\tlearn: 0.3131596\ttotal: 3.51s\tremaining: 802ms\n",
      "814:\tlearn: 0.3130513\ttotal: 3.51s\tremaining: 798ms\n",
      "815:\tlearn: 0.3129069\ttotal: 3.52s\tremaining: 793ms\n",
      "816:\tlearn: 0.3128499\ttotal: 3.52s\tremaining: 789ms\n",
      "817:\tlearn: 0.3127366\ttotal: 3.52s\tremaining: 784ms\n",
      "818:\tlearn: 0.3126578\ttotal: 3.53s\tremaining: 780ms\n",
      "819:\tlearn: 0.3125220\ttotal: 3.53s\tremaining: 775ms\n",
      "820:\tlearn: 0.3124278\ttotal: 3.54s\tremaining: 771ms\n",
      "821:\tlearn: 0.3123181\ttotal: 3.54s\tremaining: 767ms\n"
     ]
    },
    {
     "name": "stdout",
     "output_type": "stream",
     "text": [
      "822:\tlearn: 0.3121984\ttotal: 3.55s\tremaining: 763ms\n",
      "823:\tlearn: 0.3120629\ttotal: 3.55s\tremaining: 758ms\n",
      "824:\tlearn: 0.3119594\ttotal: 3.56s\tremaining: 754ms\n",
      "825:\tlearn: 0.3118568\ttotal: 3.56s\tremaining: 750ms\n",
      "826:\tlearn: 0.3117876\ttotal: 3.57s\tremaining: 746ms\n",
      "827:\tlearn: 0.3117062\ttotal: 3.57s\tremaining: 742ms\n",
      "828:\tlearn: 0.3115488\ttotal: 3.57s\tremaining: 737ms\n",
      "829:\tlearn: 0.3113982\ttotal: 3.58s\tremaining: 733ms\n",
      "830:\tlearn: 0.3112888\ttotal: 3.58s\tremaining: 729ms\n",
      "831:\tlearn: 0.3112203\ttotal: 3.59s\tremaining: 724ms\n",
      "832:\tlearn: 0.3111122\ttotal: 3.59s\tremaining: 720ms\n",
      "833:\tlearn: 0.3110814\ttotal: 3.6s\tremaining: 716ms\n",
      "834:\tlearn: 0.3110081\ttotal: 3.6s\tremaining: 711ms\n",
      "835:\tlearn: 0.3109366\ttotal: 3.6s\tremaining: 707ms\n",
      "836:\tlearn: 0.3109070\ttotal: 3.61s\tremaining: 702ms\n",
      "837:\tlearn: 0.3107571\ttotal: 3.61s\tremaining: 698ms\n",
      "838:\tlearn: 0.3106854\ttotal: 3.61s\tremaining: 694ms\n",
      "839:\tlearn: 0.3105571\ttotal: 3.62s\tremaining: 689ms\n",
      "840:\tlearn: 0.3105038\ttotal: 3.62s\tremaining: 685ms\n",
      "841:\tlearn: 0.3104379\ttotal: 3.63s\tremaining: 680ms\n",
      "842:\tlearn: 0.3104021\ttotal: 3.63s\tremaining: 676ms\n",
      "843:\tlearn: 0.3102896\ttotal: 3.63s\tremaining: 672ms\n",
      "844:\tlearn: 0.3101583\ttotal: 3.64s\tremaining: 667ms\n",
      "845:\tlearn: 0.3100201\ttotal: 3.64s\tremaining: 663ms\n",
      "846:\tlearn: 0.3099349\ttotal: 3.64s\tremaining: 658ms\n",
      "847:\tlearn: 0.3098332\ttotal: 3.65s\tremaining: 654ms\n",
      "848:\tlearn: 0.3097955\ttotal: 3.65s\tremaining: 650ms\n",
      "849:\tlearn: 0.3097606\ttotal: 3.66s\tremaining: 646ms\n",
      "850:\tlearn: 0.3096845\ttotal: 3.66s\tremaining: 641ms\n",
      "851:\tlearn: 0.3095918\ttotal: 3.67s\tremaining: 637ms\n",
      "852:\tlearn: 0.3094793\ttotal: 3.67s\tremaining: 633ms\n",
      "853:\tlearn: 0.3093622\ttotal: 3.67s\tremaining: 628ms\n",
      "854:\tlearn: 0.3092773\ttotal: 3.68s\tremaining: 624ms\n",
      "855:\tlearn: 0.3092362\ttotal: 3.68s\tremaining: 619ms\n",
      "856:\tlearn: 0.3091078\ttotal: 3.69s\tremaining: 615ms\n",
      "857:\tlearn: 0.3090703\ttotal: 3.69s\tremaining: 611ms\n",
      "858:\tlearn: 0.3089171\ttotal: 3.69s\tremaining: 606ms\n",
      "859:\tlearn: 0.3088662\ttotal: 3.7s\tremaining: 602ms\n",
      "860:\tlearn: 0.3087252\ttotal: 3.7s\tremaining: 597ms\n",
      "861:\tlearn: 0.3086718\ttotal: 3.7s\tremaining: 593ms\n",
      "862:\tlearn: 0.3085709\ttotal: 3.71s\tremaining: 589ms\n",
      "863:\tlearn: 0.3084527\ttotal: 3.71s\tremaining: 584ms\n",
      "864:\tlearn: 0.3083927\ttotal: 3.72s\tremaining: 580ms\n",
      "865:\tlearn: 0.3083020\ttotal: 3.72s\tremaining: 576ms\n",
      "866:\tlearn: 0.3082149\ttotal: 3.73s\tremaining: 572ms\n",
      "867:\tlearn: 0.3081092\ttotal: 3.73s\tremaining: 568ms\n",
      "868:\tlearn: 0.3079861\ttotal: 3.74s\tremaining: 564ms\n",
      "869:\tlearn: 0.3078676\ttotal: 3.74s\tremaining: 559ms\n",
      "870:\tlearn: 0.3077688\ttotal: 3.75s\tremaining: 555ms\n",
      "871:\tlearn: 0.3077233\ttotal: 3.75s\tremaining: 551ms\n",
      "872:\tlearn: 0.3076588\ttotal: 3.76s\tremaining: 546ms\n",
      "873:\tlearn: 0.3075792\ttotal: 3.76s\tremaining: 542ms\n",
      "874:\tlearn: 0.3074960\ttotal: 3.76s\tremaining: 538ms\n",
      "875:\tlearn: 0.3073917\ttotal: 3.77s\tremaining: 533ms\n",
      "876:\tlearn: 0.3073335\ttotal: 3.77s\tremaining: 529ms\n",
      "877:\tlearn: 0.3072331\ttotal: 3.77s\tremaining: 525ms\n",
      "878:\tlearn: 0.3071227\ttotal: 3.78s\tremaining: 520ms\n",
      "879:\tlearn: 0.3069762\ttotal: 3.78s\tremaining: 516ms\n",
      "880:\tlearn: 0.3068522\ttotal: 3.79s\tremaining: 512ms\n",
      "881:\tlearn: 0.3067765\ttotal: 3.79s\tremaining: 507ms\n",
      "882:\tlearn: 0.3066724\ttotal: 3.79s\tremaining: 503ms\n",
      "883:\tlearn: 0.3066034\ttotal: 3.8s\tremaining: 498ms\n",
      "884:\tlearn: 0.3065024\ttotal: 3.8s\tremaining: 494ms\n",
      "885:\tlearn: 0.3064292\ttotal: 3.81s\tremaining: 490ms\n",
      "886:\tlearn: 0.3063604\ttotal: 3.81s\tremaining: 485ms\n",
      "887:\tlearn: 0.3062827\ttotal: 3.81s\tremaining: 481ms\n",
      "888:\tlearn: 0.3061960\ttotal: 3.82s\tremaining: 477ms\n",
      "889:\tlearn: 0.3060357\ttotal: 3.82s\tremaining: 472ms\n",
      "890:\tlearn: 0.3059643\ttotal: 3.83s\tremaining: 468ms\n",
      "891:\tlearn: 0.3058975\ttotal: 3.83s\tremaining: 464ms\n",
      "892:\tlearn: 0.3057564\ttotal: 3.83s\tremaining: 459ms\n",
      "893:\tlearn: 0.3056855\ttotal: 3.84s\tremaining: 455ms\n",
      "894:\tlearn: 0.3056173\ttotal: 3.84s\tremaining: 451ms\n",
      "895:\tlearn: 0.3055431\ttotal: 3.84s\tremaining: 446ms\n",
      "896:\tlearn: 0.3054104\ttotal: 3.85s\tremaining: 442ms\n",
      "897:\tlearn: 0.3053653\ttotal: 3.85s\tremaining: 438ms\n",
      "898:\tlearn: 0.3052837\ttotal: 3.85s\tremaining: 433ms\n",
      "899:\tlearn: 0.3051652\ttotal: 3.86s\tremaining: 429ms\n",
      "900:\tlearn: 0.3050916\ttotal: 3.86s\tremaining: 425ms\n",
      "901:\tlearn: 0.3050431\ttotal: 3.87s\tremaining: 420ms\n",
      "902:\tlearn: 0.3049767\ttotal: 3.87s\tremaining: 416ms\n",
      "903:\tlearn: 0.3048748\ttotal: 3.87s\tremaining: 411ms\n",
      "904:\tlearn: 0.3047618\ttotal: 3.88s\tremaining: 407ms\n",
      "905:\tlearn: 0.3046562\ttotal: 3.88s\tremaining: 403ms\n",
      "906:\tlearn: 0.3044870\ttotal: 3.89s\tremaining: 398ms\n",
      "907:\tlearn: 0.3044191\ttotal: 3.89s\tremaining: 394ms\n",
      "908:\tlearn: 0.3042717\ttotal: 3.9s\tremaining: 390ms\n",
      "909:\tlearn: 0.3041631\ttotal: 3.9s\tremaining: 386ms\n",
      "910:\tlearn: 0.3040690\ttotal: 3.91s\tremaining: 382ms\n",
      "911:\tlearn: 0.3039257\ttotal: 3.91s\tremaining: 377ms\n",
      "912:\tlearn: 0.3038271\ttotal: 3.92s\tremaining: 373ms\n",
      "913:\tlearn: 0.3037877\ttotal: 3.92s\tremaining: 369ms\n",
      "914:\tlearn: 0.3036724\ttotal: 3.93s\tremaining: 365ms\n",
      "915:\tlearn: 0.3035677\ttotal: 3.93s\tremaining: 361ms\n",
      "916:\tlearn: 0.3035207\ttotal: 3.94s\tremaining: 356ms\n",
      "917:\tlearn: 0.3034145\ttotal: 3.94s\tremaining: 352ms\n",
      "918:\tlearn: 0.3033364\ttotal: 3.94s\tremaining: 348ms\n",
      "919:\tlearn: 0.3032610\ttotal: 3.95s\tremaining: 343ms\n",
      "920:\tlearn: 0.3031271\ttotal: 3.95s\tremaining: 339ms\n",
      "921:\tlearn: 0.3030182\ttotal: 3.96s\tremaining: 335ms\n",
      "922:\tlearn: 0.3029621\ttotal: 3.96s\tremaining: 330ms\n",
      "923:\tlearn: 0.3027838\ttotal: 3.96s\tremaining: 326ms\n",
      "924:\tlearn: 0.3026654\ttotal: 3.97s\tremaining: 322ms\n",
      "925:\tlearn: 0.3025885\ttotal: 3.97s\tremaining: 317ms\n",
      "926:\tlearn: 0.3025060\ttotal: 3.97s\tremaining: 313ms\n",
      "927:\tlearn: 0.3024364\ttotal: 3.98s\tremaining: 309ms\n",
      "928:\tlearn: 0.3024027\ttotal: 3.98s\tremaining: 304ms\n",
      "929:\tlearn: 0.3023173\ttotal: 3.98s\tremaining: 300ms\n",
      "930:\tlearn: 0.3022184\ttotal: 3.99s\tremaining: 296ms\n",
      "931:\tlearn: 0.3020782\ttotal: 4s\tremaining: 292ms\n",
      "932:\tlearn: 0.3019916\ttotal: 4s\tremaining: 287ms\n",
      "933:\tlearn: 0.3018785\ttotal: 4s\tremaining: 283ms\n",
      "934:\tlearn: 0.3017901\ttotal: 4.01s\tremaining: 279ms\n",
      "935:\tlearn: 0.3016176\ttotal: 4.01s\tremaining: 274ms\n",
      "936:\tlearn: 0.3015526\ttotal: 4.01s\tremaining: 270ms\n",
      "937:\tlearn: 0.3014530\ttotal: 4.02s\tremaining: 266ms\n",
      "938:\tlearn: 0.3013588\ttotal: 4.02s\tremaining: 261ms\n",
      "939:\tlearn: 0.3012656\ttotal: 4.03s\tremaining: 257ms\n",
      "940:\tlearn: 0.3011541\ttotal: 4.03s\tremaining: 253ms\n",
      "941:\tlearn: 0.3010050\ttotal: 4.03s\tremaining: 248ms\n",
      "942:\tlearn: 0.3009258\ttotal: 4.04s\tremaining: 244ms\n",
      "943:\tlearn: 0.3008879\ttotal: 4.04s\tremaining: 240ms\n",
      "944:\tlearn: 0.3007927\ttotal: 4.04s\tremaining: 235ms\n",
      "945:\tlearn: 0.3006824\ttotal: 4.05s\tremaining: 231ms\n",
      "946:\tlearn: 0.3005860\ttotal: 4.05s\tremaining: 227ms\n",
      "947:\tlearn: 0.3004849\ttotal: 4.06s\tremaining: 223ms\n",
      "948:\tlearn: 0.3003648\ttotal: 4.06s\tremaining: 218ms\n",
      "949:\tlearn: 0.3003355\ttotal: 4.07s\tremaining: 214ms\n",
      "950:\tlearn: 0.3002849\ttotal: 4.07s\tremaining: 210ms\n",
      "951:\tlearn: 0.3002437\ttotal: 4.08s\tremaining: 206ms\n",
      "952:\tlearn: 0.3001503\ttotal: 4.08s\tremaining: 201ms\n",
      "953:\tlearn: 0.3000145\ttotal: 4.09s\tremaining: 197ms\n",
      "954:\tlearn: 0.2999522\ttotal: 4.09s\tremaining: 193ms\n",
      "955:\tlearn: 0.2998996\ttotal: 4.1s\tremaining: 189ms\n",
      "956:\tlearn: 0.2997289\ttotal: 4.1s\tremaining: 184ms\n",
      "957:\tlearn: 0.2996508\ttotal: 4.11s\tremaining: 180ms\n",
      "958:\tlearn: 0.2995799\ttotal: 4.11s\tremaining: 176ms\n",
      "959:\tlearn: 0.2994857\ttotal: 4.11s\tremaining: 171ms\n",
      "960:\tlearn: 0.2994397\ttotal: 4.12s\tremaining: 167ms\n",
      "961:\tlearn: 0.2993636\ttotal: 4.12s\tremaining: 163ms\n",
      "962:\tlearn: 0.2992662\ttotal: 4.12s\tremaining: 158ms\n",
      "963:\tlearn: 0.2991904\ttotal: 4.13s\tremaining: 154ms\n",
      "964:\tlearn: 0.2991096\ttotal: 4.13s\tremaining: 150ms\n",
      "965:\tlearn: 0.2990484\ttotal: 4.13s\tremaining: 146ms\n",
      "966:\tlearn: 0.2989132\ttotal: 4.14s\tremaining: 141ms\n",
      "967:\tlearn: 0.2988287\ttotal: 4.14s\tremaining: 137ms\n",
      "968:\tlearn: 0.2987440\ttotal: 4.15s\tremaining: 133ms\n",
      "969:\tlearn: 0.2986298\ttotal: 4.15s\tremaining: 128ms\n",
      "970:\tlearn: 0.2985489\ttotal: 4.15s\tremaining: 124ms\n",
      "971:\tlearn: 0.2984940\ttotal: 4.16s\tremaining: 120ms\n",
      "972:\tlearn: 0.2983926\ttotal: 4.16s\tremaining: 115ms\n",
      "973:\tlearn: 0.2982664\ttotal: 4.17s\tremaining: 111ms\n",
      "974:\tlearn: 0.2982185\ttotal: 4.17s\tremaining: 107ms\n",
      "975:\tlearn: 0.2981602\ttotal: 4.17s\tremaining: 103ms\n",
      "976:\tlearn: 0.2980427\ttotal: 4.18s\tremaining: 98.3ms\n",
      "977:\tlearn: 0.2979590\ttotal: 4.18s\tremaining: 94ms\n",
      "978:\tlearn: 0.2978380\ttotal: 4.18s\tremaining: 89.8ms\n",
      "979:\tlearn: 0.2977883\ttotal: 4.19s\tremaining: 85.5ms\n",
      "980:\tlearn: 0.2977252\ttotal: 4.19s\tremaining: 81.2ms\n",
      "981:\tlearn: 0.2976710\ttotal: 4.2s\tremaining: 76.9ms\n",
      "982:\tlearn: 0.2975885\ttotal: 4.2s\tremaining: 72.6ms\n",
      "983:\tlearn: 0.2974952\ttotal: 4.2s\tremaining: 68.4ms\n",
      "984:\tlearn: 0.2973981\ttotal: 4.21s\tremaining: 64.1ms\n",
      "985:\tlearn: 0.2973263\ttotal: 4.21s\tremaining: 59.8ms\n",
      "986:\tlearn: 0.2972284\ttotal: 4.22s\tremaining: 55.5ms\n",
      "987:\tlearn: 0.2970764\ttotal: 4.22s\tremaining: 51.3ms\n",
      "988:\tlearn: 0.2969888\ttotal: 4.22s\tremaining: 47ms\n",
      "989:\tlearn: 0.2968707\ttotal: 4.23s\tremaining: 42.7ms\n",
      "990:\tlearn: 0.2967651\ttotal: 4.23s\tremaining: 38.4ms\n"
     ]
    },
    {
     "name": "stdout",
     "output_type": "stream",
     "text": [
      "991:\tlearn: 0.2966769\ttotal: 4.24s\tremaining: 34.2ms\n",
      "992:\tlearn: 0.2966078\ttotal: 4.24s\tremaining: 29.9ms\n",
      "993:\tlearn: 0.2965459\ttotal: 4.25s\tremaining: 25.6ms\n",
      "994:\tlearn: 0.2963935\ttotal: 4.26s\tremaining: 21.4ms\n",
      "995:\tlearn: 0.2962718\ttotal: 4.26s\tremaining: 17.1ms\n",
      "996:\tlearn: 0.2961963\ttotal: 4.27s\tremaining: 12.8ms\n",
      "997:\tlearn: 0.2961566\ttotal: 4.27s\tremaining: 8.56ms\n",
      "998:\tlearn: 0.2960323\ttotal: 4.28s\tremaining: 4.29ms\n",
      "999:\tlearn: 0.2959677\ttotal: 4.28s\tremaining: 0us\n",
      "model: <catboost.core.CatBoostClassifier object at 0x000001B437217B08>, train_score: 0.875616230565036, test_score: 0.78839590443686\n"
     ]
    }
   ],
   "source": [
    "for model in models:\n",
    "    model_fit_score(model)"
   ]
  },
  {
   "cell_type": "code",
   "execution_count": null,
   "metadata": {},
   "outputs": [],
   "source": [
    "#AdaBoostClassifier\n",
    "#train_score: 0.8056503602578687, test_score: 0.8077360637087599"
   ]
  },
  {
   "cell_type": "markdown",
   "metadata": {},
   "source": [
    "### Confusion Matrix"
   ]
  },
  {
   "cell_type": "code",
   "execution_count": 37,
   "metadata": {},
   "outputs": [],
   "source": [
    "import sklearn.metrics as metrics\n",
    "from sklearn.metrics import confusion_matrix, f1_score, recall_score, precision_score, roc_curve, roc_auc_score"
   ]
  },
  {
   "cell_type": "code",
   "execution_count": 39,
   "metadata": {},
   "outputs": [],
   "source": [
    "from sklearn.metrics import classification_report"
   ]
  },
  {
   "cell_type": "code",
   "execution_count": 14,
   "metadata": {},
   "outputs": [],
   "source": [
    "best_model = AdaBoostClassifier()"
   ]
  },
  {
   "cell_type": "code",
   "execution_count": 15,
   "metadata": {},
   "outputs": [
    {
     "data": {
      "text/plain": [
       "AdaBoostClassifier(algorithm='SAMME.R', base_estimator=None, learning_rate=1.0,\n",
       "                   n_estimators=50, random_state=None)"
      ]
     },
     "execution_count": 15,
     "metadata": {},
     "output_type": "execute_result"
    }
   ],
   "source": [
    "best_model.fit(X_train, y_train)"
   ]
  },
  {
   "cell_type": "code",
   "execution_count": 16,
   "metadata": {},
   "outputs": [
    {
     "name": "stdout",
     "output_type": "stream",
     "text": [
      "Training Score: 0.8056503602578687\n",
      "Testing Score: 0.8077360637087599\n"
     ]
    }
   ],
   "source": [
    "print(f'Training Score: {best_model.score(X_train, y_train)}')\n",
    "print(f'Testing Score: {best_model.score(X_test, y_test)}')"
   ]
  },
  {
   "cell_type": "code",
   "execution_count": 42,
   "metadata": {},
   "outputs": [],
   "source": [
    "preds = best_model.predict(X_test)"
   ]
  },
  {
   "cell_type": "code",
   "execution_count": 43,
   "metadata": {},
   "outputs": [],
   "source": [
    "tn, fp, fn, tp = confusion_matrix(y_test,\n",
    "                                  preds).ravel()"
   ]
  },
  {
   "cell_type": "code",
   "execution_count": 44,
   "metadata": {},
   "outputs": [
    {
     "name": "stdout",
     "output_type": "stream",
     "text": [
      "[[1176  127]\n",
      " [ 211  244]]\n"
     ]
    }
   ],
   "source": [
    "print(confusion_matrix(y_test,\n",
    "                       preds))"
   ]
  },
  {
   "cell_type": "code",
   "execution_count": 45,
   "metadata": {},
   "outputs": [
    {
     "name": "stdout",
     "output_type": "stream",
     "text": [
      "              precision    recall  f1-score   support\n",
      "\n",
      "           0       0.85      0.90      0.87      1303\n",
      "           1       0.66      0.54      0.59       455\n",
      "\n",
      "    accuracy                           0.81      1758\n",
      "   macro avg       0.75      0.72      0.73      1758\n",
      "weighted avg       0.80      0.81      0.80      1758\n",
      "\n"
     ]
    }
   ],
   "source": [
    "print(metrics.classification_report(y_test, preds))"
   ]
  },
  {
   "cell_type": "code",
   "execution_count": null,
   "metadata": {},
   "outputs": [],
   "source": [
    "#churn_scale = {'Yes': 1, 'No': 0}"
   ]
  },
  {
   "cell_type": "markdown",
   "metadata": {},
   "source": [
    "### ROC Curve"
   ]
  },
  {
   "cell_type": "code",
   "execution_count": 30,
   "metadata": {},
   "outputs": [
    {
     "data": {
      "text/plain": [
       "0.7193981766506709"
      ]
     },
     "execution_count": 30,
     "metadata": {},
     "output_type": "execute_result"
    }
   ],
   "source": [
    "roc_auc_score(y_test, preds)"
   ]
  },
  {
   "cell_type": "code",
   "execution_count": 31,
   "metadata": {},
   "outputs": [
    {
     "data": {
      "text/plain": [
       "0.5907990314769975"
      ]
     },
     "execution_count": 31,
     "metadata": {},
     "output_type": "execute_result"
    }
   ],
   "source": [
    "f1_score(y_test, preds)"
   ]
  },
  {
   "cell_type": "code",
   "execution_count": 32,
   "metadata": {},
   "outputs": [
    {
     "data": {
      "text/plain": [
       "0.6576819407008087"
      ]
     },
     "execution_count": 32,
     "metadata": {},
     "output_type": "execute_result"
    }
   ],
   "source": [
    "precision_score(y_test, preds)"
   ]
  },
  {
   "cell_type": "code",
   "execution_count": 33,
   "metadata": {},
   "outputs": [
    {
     "data": {
      "text/plain": [
       "0.5362637362637362"
      ]
     },
     "execution_count": 33,
     "metadata": {},
     "output_type": "execute_result"
    }
   ],
   "source": [
    "recall_score(y_test, preds)"
   ]
  },
  {
   "cell_type": "code",
   "execution_count": 34,
   "metadata": {},
   "outputs": [],
   "source": [
    "probs = best_model.predict_proba(X_test)\n",
    "preds = probs[:,1]\n",
    "fpr, tpr, threshold = metrics.roc_curve(y_test, preds)\n",
    "roc_auc = metrics.auc(fpr, tpr)"
   ]
  },
  {
   "cell_type": "code",
   "execution_count": 35,
   "metadata": {},
   "outputs": [
    {
     "data": {
      "application/javascript": [
       "\n",
       "        if (window._pyforest_update_imports_cell) { window._pyforest_update_imports_cell('import matplotlib.pyplot as plt\\nimport pandas as pd\\nfrom sklearn.model_selection import train_test_split'); }\n",
       "    "
      ],
      "text/plain": [
       "<IPython.core.display.Javascript object>"
      ]
     },
     "metadata": {},
     "output_type": "display_data"
    },
    {
     "data": {
      "application/javascript": [
       "\n",
       "        if (window._pyforest_update_imports_cell) { window._pyforest_update_imports_cell('import matplotlib.pyplot as plt\\nimport pandas as pd\\nfrom sklearn.model_selection import train_test_split'); }\n",
       "    "
      ],
      "text/plain": [
       "<IPython.core.display.Javascript object>"
      ]
     },
     "metadata": {},
     "output_type": "display_data"
    },
    {
     "data": {
      "application/javascript": [
       "\n",
       "        if (window._pyforest_update_imports_cell) { window._pyforest_update_imports_cell('import matplotlib.pyplot as plt\\nimport pandas as pd\\nfrom sklearn.model_selection import train_test_split'); }\n",
       "    "
      ],
      "text/plain": [
       "<IPython.core.display.Javascript object>"
      ]
     },
     "metadata": {},
     "output_type": "display_data"
    },
    {
     "data": {
      "application/javascript": [
       "\n",
       "        if (window._pyforest_update_imports_cell) { window._pyforest_update_imports_cell('import matplotlib.pyplot as plt\\nimport pandas as pd\\nfrom sklearn.model_selection import train_test_split'); }\n",
       "    "
      ],
      "text/plain": [
       "<IPython.core.display.Javascript object>"
      ]
     },
     "metadata": {},
     "output_type": "display_data"
    },
    {
     "data": {
      "application/javascript": [
       "\n",
       "        if (window._pyforest_update_imports_cell) { window._pyforest_update_imports_cell('import matplotlib.pyplot as plt\\nimport pandas as pd\\nfrom sklearn.model_selection import train_test_split'); }\n",
       "    "
      ],
      "text/plain": [
       "<IPython.core.display.Javascript object>"
      ]
     },
     "metadata": {},
     "output_type": "display_data"
    },
    {
     "data": {
      "application/javascript": [
       "\n",
       "        if (window._pyforest_update_imports_cell) { window._pyforest_update_imports_cell('import matplotlib.pyplot as plt\\nimport pandas as pd\\nfrom sklearn.model_selection import train_test_split'); }\n",
       "    "
      ],
      "text/plain": [
       "<IPython.core.display.Javascript object>"
      ]
     },
     "metadata": {},
     "output_type": "display_data"
    },
    {
     "data": {
      "application/javascript": [
       "\n",
       "        if (window._pyforest_update_imports_cell) { window._pyforest_update_imports_cell('import matplotlib.pyplot as plt\\nimport pandas as pd\\nfrom sklearn.model_selection import train_test_split'); }\n",
       "    "
      ],
      "text/plain": [
       "<IPython.core.display.Javascript object>"
      ]
     },
     "metadata": {},
     "output_type": "display_data"
    },
    {
     "data": {
      "application/javascript": [
       "\n",
       "        if (window._pyforest_update_imports_cell) { window._pyforest_update_imports_cell('import matplotlib.pyplot as plt\\nimport pandas as pd\\nfrom sklearn.model_selection import train_test_split'); }\n",
       "    "
      ],
      "text/plain": [
       "<IPython.core.display.Javascript object>"
      ]
     },
     "metadata": {},
     "output_type": "display_data"
    },
    {
     "data": {
      "application/javascript": [
       "\n",
       "        if (window._pyforest_update_imports_cell) { window._pyforest_update_imports_cell('import matplotlib.pyplot as plt\\nimport pandas as pd\\nfrom sklearn.model_selection import train_test_split'); }\n",
       "    "
      ],
      "text/plain": [
       "<IPython.core.display.Javascript object>"
      ]
     },
     "metadata": {},
     "output_type": "display_data"
    },
    {
     "data": {
      "image/png": "[encoded data removed]",
      "text/plain": [
       "<Figure size 432x288 with 1 Axes>"
      ]
     },
     "metadata": {
      "needs_background": "light"
     },
     "output_type": "display_data"
    }
   ],
   "source": [
    "plt.title('Receiver Operating Characteristic')\n",
    "plt.plot(fpr, tpr, 'b', label = 'AUC = %0.2f' % roc_auc)\n",
    "plt.legend(loc = 'lower right')\n",
    "plt.plot([0, 1], [0, 1],'r--')\n",
    "plt.xlim([0, 1])\n",
    "plt.ylim([0, 1])\n",
    "plt.ylabel('True Positive Rate')\n",
    "plt.xlabel('False Positive Rate')\n",
    "plt.show()"
   ]
  },
  {
   "cell_type": "code",
   "execution_count": null,
   "metadata": {},
   "outputs": [],
   "source": []
  }
 ],
 "metadata": {
  "kernelspec": {
   "display_name": "Python 3",
   "language": "python",
   "name": "python3"
  },
  "language_info": {
   "codemirror_mode": {
    "name": "ipython",
    "version": 3
   },
   "file_extension": ".py",
   "mimetype": "text/x-python",
   "name": "python",
   "nbconvert_exporter": "python",
   "pygments_lexer": "ipython3",
   "version": "3.7.4"
  }
 },
 "nbformat": 4,
 "nbformat_minor": 2
}
